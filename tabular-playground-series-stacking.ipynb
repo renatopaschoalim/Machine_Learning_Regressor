{
 "cells": [
  {
   "cell_type": "code",
   "execution_count": 1,
   "metadata": {
    "_cell_guid": "b1076dfc-b9ad-4769-8c92-a6c4dae69d19",
    "_uuid": "8f2839f25d086af736a60e9eeb907d3b93b6e0e5",
    "execution": {
     "iopub.execute_input": "2021-01-27T19:52:33.835527Z",
     "iopub.status.busy": "2021-01-27T19:52:33.834630Z",
     "iopub.status.idle": "2021-01-27T19:52:33.840671Z",
     "shell.execute_reply": "2021-01-27T19:52:33.839447Z"
    },
    "papermill": {
     "duration": 0.024113,
     "end_time": "2021-01-27T19:52:33.840877",
     "exception": false,
     "start_time": "2021-01-27T19:52:33.816764",
     "status": "completed"
    },
    "tags": []
   },
   "outputs": [
    {
     "name": "stdout",
     "output_type": "stream",
     "text": [
      "/kaggle/input/tabular-playground-series-jan-2021/sample_submission.csv\n",
      "/kaggle/input/tabular-playground-series-jan-2021/train.csv\n",
      "/kaggle/input/tabular-playground-series-jan-2021/test.csv\n"
     ]
    }
   ],
   "source": [
    "# This Python 3 environment comes with many helpful analytics libraries installed\n",
    "# It is defined by the kaggle/python Docker image: https://github.com/kaggle/docker-python\n",
    "# For example, here's several helpful packages to load\n",
    "\n",
    "import numpy as np # linear algebra\n",
    "import pandas as pd # data processing, CSV file I/O (e.g. pd.read_csv)\n",
    "\n",
    "# Input data files are available in the read-only \"../input/\" directory\n",
    "# For example, running this (by clicking run or pressing Shift+Enter) will list all files under the input directory\n",
    "\n",
    "import os\n",
    "for dirname, _, filenames in os.walk('/kaggle/input'):\n",
    "    for filename in filenames:\n",
    "        print(os.path.join(dirname, filename))\n",
    "\n",
    "# You can write up to 20GB to the current directory (/kaggle/working/) that gets preserved as output when you create a version using \"Save & Run All\" \n",
    "# You can also write temporary files to /kaggle/temp/, but they won't be saved outside of the current session"
   ]
  },
  {
   "cell_type": "markdown",
   "metadata": {
    "papermill": {
     "duration": 0.010339,
     "end_time": "2021-01-27T19:52:33.862403",
     "exception": false,
     "start_time": "2021-01-27T19:52:33.852064",
     "status": "completed"
    },
    "tags": []
   },
   "source": [
    "# Import librareis & data"
   ]
  },
  {
   "cell_type": "code",
   "execution_count": 2,
   "metadata": {
    "_cell_guid": "79c7e3d0-c299-4dcb-8224-4455121ee9b0",
    "_uuid": "d629ff2d2480ee46fbb7e2d37f6b5fab8052498a",
    "execution": {
     "iopub.execute_input": "2021-01-27T19:52:33.888891Z",
     "iopub.status.busy": "2021-01-27T19:52:33.888330Z",
     "iopub.status.idle": "2021-01-27T19:52:39.498644Z",
     "shell.execute_reply": "2021-01-27T19:52:39.499308Z"
    },
    "papermill": {
     "duration": 5.626712,
     "end_time": "2021-01-27T19:52:39.499519",
     "exception": false,
     "start_time": "2021-01-27T19:52:33.872807",
     "status": "completed"
    },
    "tags": []
   },
   "outputs": [
    {
     "data": {
      "text/html": [
       "<style type='text/css'>\n",
       ".datatable table.frame { margin-bottom: 0; }\n",
       ".datatable table.frame thead { border-bottom: none; }\n",
       ".datatable table.frame tr.coltypes td {  color: #FFFFFF;  line-height: 6px;  padding: 0 0.5em;}\n",
       ".datatable .bool    { background: #DDDD99; }\n",
       ".datatable .object  { background: #565656; }\n",
       ".datatable .int     { background: #5D9E5D; }\n",
       ".datatable .float   { background: #4040CC; }\n",
       ".datatable .str     { background: #CC4040; }\n",
       ".datatable .row_index {  background: var(--jp-border-color3);  border-right: 1px solid var(--jp-border-color0);  color: var(--jp-ui-font-color3);  font-size: 9px;}\n",
       ".datatable .frame tr.coltypes .row_index {  background: var(--jp-border-color0);}\n",
       ".datatable th:nth-child(2) { padding-left: 12px; }\n",
       ".datatable .hellipsis {  color: var(--jp-cell-editor-border-color);}\n",
       ".datatable .vellipsis {  background: var(--jp-layout-color0);  color: var(--jp-cell-editor-border-color);}\n",
       ".datatable .na {  color: var(--jp-cell-editor-border-color);  font-size: 80%;}\n",
       ".datatable .footer { font-size: 9px; }\n",
       ".datatable .frame_dimensions {  background: var(--jp-border-color3);  border-top: 1px solid var(--jp-border-color0);  color: var(--jp-ui-font-color3);  display: inline-block;  opacity: 0.6;  padding: 1px 10px 1px 5px;}\n",
       "</style>\n"
      ],
      "text/plain": [
       "<IPython.core.display.HTML object>"
      ]
     },
     "metadata": {},
     "output_type": "display_data"
    }
   ],
   "source": [
    "import pandas as pd\n",
    "import numpy as np\n",
    "import matplotlib.pyplot as plt\n",
    "import seaborn as sns\n",
    "from sklearn.metrics import mean_squared_error\n",
    "from sklearn.model_selection import KFold\n",
    "from sklearn.model_selection import cross_val_score\n",
    "from sklearn.ensemble import StackingRegressor\n",
    "from xgboost import XGBRegressor\n",
    "from lightgbm import LGBMRegressor\n",
    "from catboost import CatBoostRegressor\n",
    "from sklearn.neural_network import MLPRegressor\n",
    "from sklearn.ensemble import VotingRegressor"
   ]
  },
  {
   "cell_type": "code",
   "execution_count": 3,
   "metadata": {
    "execution": {
     "iopub.execute_input": "2021-01-27T19:52:39.558532Z",
     "iopub.status.busy": "2021-01-27T19:52:39.557984Z",
     "iopub.status.idle": "2021-01-27T19:52:42.480920Z",
     "shell.execute_reply": "2021-01-27T19:52:42.481310Z"
    },
    "papermill": {
     "duration": 2.958308,
     "end_time": "2021-01-27T19:52:42.481439",
     "exception": false,
     "start_time": "2021-01-27T19:52:39.523131",
     "status": "completed"
    },
    "tags": []
   },
   "outputs": [
    {
     "data": {
      "text/plain": [
       "((300000, 16), (200000, 15))"
      ]
     },
     "execution_count": 3,
     "metadata": {},
     "output_type": "execute_result"
    }
   ],
   "source": [
    "train = pd.read_csv('/kaggle/input/tabular-playground-series-jan-2021/train.csv')\n",
    "test = pd.read_csv('/kaggle/input/tabular-playground-series-jan-2021/test.csv')\n",
    "sample_submission = pd.read_csv('/kaggle/input/tabular-playground-series-jan-2021/sample_submission.csv')\n",
    "train.shape, test.shape"
   ]
  },
  {
   "cell_type": "markdown",
   "metadata": {
    "papermill": {
     "duration": 0.011224,
     "end_time": "2021-01-27T19:52:42.504240",
     "exception": false,
     "start_time": "2021-01-27T19:52:42.493016",
     "status": "completed"
    },
    "tags": []
   },
   "source": [
    "# Data Exploration"
   ]
  },
  {
   "cell_type": "code",
   "execution_count": 4,
   "metadata": {
    "execution": {
     "iopub.execute_input": "2021-01-27T19:52:42.553011Z",
     "iopub.status.busy": "2021-01-27T19:52:42.552411Z",
     "iopub.status.idle": "2021-01-27T19:52:42.725071Z",
     "shell.execute_reply": "2021-01-27T19:52:42.724417Z"
    },
    "papermill": {
     "duration": 0.209535,
     "end_time": "2021-01-27T19:52:42.725187",
     "exception": false,
     "start_time": "2021-01-27T19:52:42.515652",
     "status": "completed"
    },
    "tags": []
   },
   "outputs": [
    {
     "data": {
      "text/html": [
       "<div>\n",
       "<style scoped>\n",
       "    .dataframe tbody tr th:only-of-type {\n",
       "        vertical-align: middle;\n",
       "    }\n",
       "\n",
       "    .dataframe tbody tr th {\n",
       "        vertical-align: top;\n",
       "    }\n",
       "\n",
       "    .dataframe thead th {\n",
       "        text-align: right;\n",
       "    }\n",
       "</style>\n",
       "<table border=\"1\" class=\"dataframe\">\n",
       "  <thead>\n",
       "    <tr style=\"text-align: right;\">\n",
       "      <th></th>\n",
       "      <th>id</th>\n",
       "      <th>cont1</th>\n",
       "      <th>cont2</th>\n",
       "      <th>cont3</th>\n",
       "      <th>cont4</th>\n",
       "      <th>cont5</th>\n",
       "      <th>cont6</th>\n",
       "      <th>cont7</th>\n",
       "      <th>cont8</th>\n",
       "      <th>cont9</th>\n",
       "      <th>cont10</th>\n",
       "      <th>cont11</th>\n",
       "      <th>cont12</th>\n",
       "      <th>cont13</th>\n",
       "      <th>cont14</th>\n",
       "      <th>target</th>\n",
       "    </tr>\n",
       "  </thead>\n",
       "  <tbody>\n",
       "    <tr>\n",
       "      <th>count</th>\n",
       "      <td>300000.000000</td>\n",
       "      <td>300000.000000</td>\n",
       "      <td>300000.000000</td>\n",
       "      <td>300000.000000</td>\n",
       "      <td>300000.000000</td>\n",
       "      <td>300000.000000</td>\n",
       "      <td>300000.000000</td>\n",
       "      <td>300000.000000</td>\n",
       "      <td>300000.000000</td>\n",
       "      <td>300000.000000</td>\n",
       "      <td>300000.000000</td>\n",
       "      <td>300000.000000</td>\n",
       "      <td>300000.000000</td>\n",
       "      <td>300000.000000</td>\n",
       "      <td>300000.000000</td>\n",
       "      <td>300000.000000</td>\n",
       "    </tr>\n",
       "    <tr>\n",
       "      <th>mean</th>\n",
       "      <td>249825.145857</td>\n",
       "      <td>0.506873</td>\n",
       "      <td>0.497898</td>\n",
       "      <td>0.521557</td>\n",
       "      <td>0.515683</td>\n",
       "      <td>0.502022</td>\n",
       "      <td>0.526515</td>\n",
       "      <td>0.487890</td>\n",
       "      <td>0.525163</td>\n",
       "      <td>0.459857</td>\n",
       "      <td>0.520532</td>\n",
       "      <td>0.483926</td>\n",
       "      <td>0.506877</td>\n",
       "      <td>0.553442</td>\n",
       "      <td>0.503713</td>\n",
       "      <td>7.905661</td>\n",
       "    </tr>\n",
       "    <tr>\n",
       "      <th>std</th>\n",
       "      <td>144476.732562</td>\n",
       "      <td>0.203976</td>\n",
       "      <td>0.228159</td>\n",
       "      <td>0.200770</td>\n",
       "      <td>0.233035</td>\n",
       "      <td>0.220701</td>\n",
       "      <td>0.217909</td>\n",
       "      <td>0.181096</td>\n",
       "      <td>0.216221</td>\n",
       "      <td>0.196685</td>\n",
       "      <td>0.201854</td>\n",
       "      <td>0.220082</td>\n",
       "      <td>0.218947</td>\n",
       "      <td>0.229730</td>\n",
       "      <td>0.208238</td>\n",
       "      <td>0.733071</td>\n",
       "    </tr>\n",
       "    <tr>\n",
       "      <th>min</th>\n",
       "      <td>1.000000</td>\n",
       "      <td>-0.082263</td>\n",
       "      <td>-0.031397</td>\n",
       "      <td>0.020967</td>\n",
       "      <td>0.152761</td>\n",
       "      <td>0.276377</td>\n",
       "      <td>0.066166</td>\n",
       "      <td>-0.097666</td>\n",
       "      <td>0.217260</td>\n",
       "      <td>-0.240604</td>\n",
       "      <td>-0.085046</td>\n",
       "      <td>0.083277</td>\n",
       "      <td>0.088635</td>\n",
       "      <td>0.029950</td>\n",
       "      <td>0.166367</td>\n",
       "      <td>0.000000</td>\n",
       "    </tr>\n",
       "    <tr>\n",
       "      <th>25%</th>\n",
       "      <td>124656.500000</td>\n",
       "      <td>0.343078</td>\n",
       "      <td>0.319170</td>\n",
       "      <td>0.344096</td>\n",
       "      <td>0.294935</td>\n",
       "      <td>0.284108</td>\n",
       "      <td>0.356163</td>\n",
       "      <td>0.346600</td>\n",
       "      <td>0.341486</td>\n",
       "      <td>0.330832</td>\n",
       "      <td>0.375465</td>\n",
       "      <td>0.300474</td>\n",
       "      <td>0.310166</td>\n",
       "      <td>0.350472</td>\n",
       "      <td>0.308673</td>\n",
       "      <td>7.329367</td>\n",
       "    </tr>\n",
       "    <tr>\n",
       "      <th>50%</th>\n",
       "      <td>249738.500000</td>\n",
       "      <td>0.484005</td>\n",
       "      <td>0.553209</td>\n",
       "      <td>0.551471</td>\n",
       "      <td>0.482880</td>\n",
       "      <td>0.451733</td>\n",
       "      <td>0.470988</td>\n",
       "      <td>0.466825</td>\n",
       "      <td>0.483460</td>\n",
       "      <td>0.416843</td>\n",
       "      <td>0.458877</td>\n",
       "      <td>0.441916</td>\n",
       "      <td>0.486599</td>\n",
       "      <td>0.487707</td>\n",
       "      <td>0.431845</td>\n",
       "      <td>7.940571</td>\n",
       "    </tr>\n",
       "    <tr>\n",
       "      <th>75%</th>\n",
       "      <td>374836.250000</td>\n",
       "      <td>0.643789</td>\n",
       "      <td>0.731263</td>\n",
       "      <td>0.648315</td>\n",
       "      <td>0.748705</td>\n",
       "      <td>0.670660</td>\n",
       "      <td>0.694043</td>\n",
       "      <td>0.581292</td>\n",
       "      <td>0.685250</td>\n",
       "      <td>0.575041</td>\n",
       "      <td>0.700292</td>\n",
       "      <td>0.679128</td>\n",
       "      <td>0.694453</td>\n",
       "      <td>0.768479</td>\n",
       "      <td>0.712653</td>\n",
       "      <td>8.470084</td>\n",
       "    </tr>\n",
       "    <tr>\n",
       "      <th>max</th>\n",
       "      <td>499999.000000</td>\n",
       "      <td>1.016227</td>\n",
       "      <td>0.859697</td>\n",
       "      <td>1.006955</td>\n",
       "      <td>1.010402</td>\n",
       "      <td>1.034261</td>\n",
       "      <td>1.043858</td>\n",
       "      <td>1.066167</td>\n",
       "      <td>1.024427</td>\n",
       "      <td>1.004114</td>\n",
       "      <td>1.199951</td>\n",
       "      <td>1.022620</td>\n",
       "      <td>1.049025</td>\n",
       "      <td>0.977845</td>\n",
       "      <td>0.868506</td>\n",
       "      <td>10.267569</td>\n",
       "    </tr>\n",
       "  </tbody>\n",
       "</table>\n",
       "</div>"
      ],
      "text/plain": [
       "                  id          cont1          cont2          cont3  \\\n",
       "count  300000.000000  300000.000000  300000.000000  300000.000000   \n",
       "mean   249825.145857       0.506873       0.497898       0.521557   \n",
       "std    144476.732562       0.203976       0.228159       0.200770   \n",
       "min         1.000000      -0.082263      -0.031397       0.020967   \n",
       "25%    124656.500000       0.343078       0.319170       0.344096   \n",
       "50%    249738.500000       0.484005       0.553209       0.551471   \n",
       "75%    374836.250000       0.643789       0.731263       0.648315   \n",
       "max    499999.000000       1.016227       0.859697       1.006955   \n",
       "\n",
       "               cont4          cont5          cont6          cont7  \\\n",
       "count  300000.000000  300000.000000  300000.000000  300000.000000   \n",
       "mean        0.515683       0.502022       0.526515       0.487890   \n",
       "std         0.233035       0.220701       0.217909       0.181096   \n",
       "min         0.152761       0.276377       0.066166      -0.097666   \n",
       "25%         0.294935       0.284108       0.356163       0.346600   \n",
       "50%         0.482880       0.451733       0.470988       0.466825   \n",
       "75%         0.748705       0.670660       0.694043       0.581292   \n",
       "max         1.010402       1.034261       1.043858       1.066167   \n",
       "\n",
       "               cont8          cont9         cont10         cont11  \\\n",
       "count  300000.000000  300000.000000  300000.000000  300000.000000   \n",
       "mean        0.525163       0.459857       0.520532       0.483926   \n",
       "std         0.216221       0.196685       0.201854       0.220082   \n",
       "min         0.217260      -0.240604      -0.085046       0.083277   \n",
       "25%         0.341486       0.330832       0.375465       0.300474   \n",
       "50%         0.483460       0.416843       0.458877       0.441916   \n",
       "75%         0.685250       0.575041       0.700292       0.679128   \n",
       "max         1.024427       1.004114       1.199951       1.022620   \n",
       "\n",
       "              cont12         cont13         cont14         target  \n",
       "count  300000.000000  300000.000000  300000.000000  300000.000000  \n",
       "mean        0.506877       0.553442       0.503713       7.905661  \n",
       "std         0.218947       0.229730       0.208238       0.733071  \n",
       "min         0.088635       0.029950       0.166367       0.000000  \n",
       "25%         0.310166       0.350472       0.308673       7.329367  \n",
       "50%         0.486599       0.487707       0.431845       7.940571  \n",
       "75%         0.694453       0.768479       0.712653       8.470084  \n",
       "max         1.049025       0.977845       0.868506      10.267569  "
      ]
     },
     "execution_count": 4,
     "metadata": {},
     "output_type": "execute_result"
    }
   ],
   "source": [
    "train.describe()"
   ]
  },
  {
   "cell_type": "code",
   "execution_count": 5,
   "metadata": {
    "execution": {
     "iopub.execute_input": "2021-01-27T19:52:42.754098Z",
     "iopub.status.busy": "2021-01-27T19:52:42.753236Z",
     "iopub.status.idle": "2021-01-27T19:52:42.773873Z",
     "shell.execute_reply": "2021-01-27T19:52:42.774301Z"
    },
    "papermill": {
     "duration": 0.037087,
     "end_time": "2021-01-27T19:52:42.774408",
     "exception": false,
     "start_time": "2021-01-27T19:52:42.737321",
     "status": "completed"
    },
    "tags": []
   },
   "outputs": [
    {
     "name": "stdout",
     "output_type": "stream",
     "text": [
      "<class 'pandas.core.frame.DataFrame'>\n",
      "RangeIndex: 300000 entries, 0 to 299999\n",
      "Data columns (total 16 columns):\n",
      " #   Column  Non-Null Count   Dtype  \n",
      "---  ------  --------------   -----  \n",
      " 0   id      300000 non-null  int64  \n",
      " 1   cont1   300000 non-null  float64\n",
      " 2   cont2   300000 non-null  float64\n",
      " 3   cont3   300000 non-null  float64\n",
      " 4   cont4   300000 non-null  float64\n",
      " 5   cont5   300000 non-null  float64\n",
      " 6   cont6   300000 non-null  float64\n",
      " 7   cont7   300000 non-null  float64\n",
      " 8   cont8   300000 non-null  float64\n",
      " 9   cont9   300000 non-null  float64\n",
      " 10  cont10  300000 non-null  float64\n",
      " 11  cont11  300000 non-null  float64\n",
      " 12  cont12  300000 non-null  float64\n",
      " 13  cont13  300000 non-null  float64\n",
      " 14  cont14  300000 non-null  float64\n",
      " 15  target  300000 non-null  float64\n",
      "dtypes: float64(15), int64(1)\n",
      "memory usage: 36.6 MB\n"
     ]
    }
   ],
   "source": [
    "train.info()"
   ]
  },
  {
   "cell_type": "code",
   "execution_count": 6,
   "metadata": {
    "execution": {
     "iopub.execute_input": "2021-01-27T19:52:42.804219Z",
     "iopub.status.busy": "2021-01-27T19:52:42.803363Z",
     "iopub.status.idle": "2021-01-27T19:52:46.077207Z",
     "shell.execute_reply": "2021-01-27T19:52:46.077663Z"
    },
    "papermill": {
     "duration": 3.290753,
     "end_time": "2021-01-27T19:52:46.077787",
     "exception": false,
     "start_time": "2021-01-27T19:52:42.787034",
     "status": "completed"
    },
    "tags": []
   },
   "outputs": [
    {
     "data": {
      "image/png": "[encoded data removed]",
      "text/plain": [
       "<Figure size 432x288 with 1 Axes>"
      ]
     },
     "metadata": {
      "needs_background": "light"
     },
     "output_type": "display_data"
    }
   ],
   "source": [
    "sns.heatmap(train.isnull(), cbar = False);"
   ]
  },
  {
   "cell_type": "markdown",
   "metadata": {
    "papermill": {
     "duration": 0.013574,
     "end_time": "2021-01-27T19:52:46.105140",
     "exception": false,
     "start_time": "2021-01-27T19:52:46.091566",
     "status": "completed"
    },
    "tags": []
   },
   "source": [
    "# Data Visualization"
   ]
  },
  {
   "cell_type": "code",
   "execution_count": 7,
   "metadata": {
    "execution": {
     "iopub.execute_input": "2021-01-27T19:52:46.138076Z",
     "iopub.status.busy": "2021-01-27T19:52:46.137382Z",
     "iopub.status.idle": "2021-01-27T19:52:48.985615Z",
     "shell.execute_reply": "2021-01-27T19:52:48.986071Z"
    },
    "papermill": {
     "duration": 2.866632,
     "end_time": "2021-01-27T19:52:48.986192",
     "exception": false,
     "start_time": "2021-01-27T19:52:46.119560",
     "status": "completed"
    },
    "tags": []
   },
   "outputs": [
    {
     "data": {
      "text/plain": [
       "array([[<matplotlib.axes._subplots.AxesSubplot object at 0x7f244429c590>,\n",
       "        <matplotlib.axes._subplots.AxesSubplot object at 0x7f24444dd7d0>,\n",
       "        <matplotlib.axes._subplots.AxesSubplot object at 0x7f24441f6ed0>,\n",
       "        <matplotlib.axes._subplots.AxesSubplot object at 0x7f24441b9590>],\n",
       "       [<matplotlib.axes._subplots.AxesSubplot object at 0x7f244416fc10>,\n",
       "        <matplotlib.axes._subplots.AxesSubplot object at 0x7f24441312d0>,\n",
       "        <matplotlib.axes._subplots.AxesSubplot object at 0x7f24442b7d10>,\n",
       "        <matplotlib.axes._subplots.AxesSubplot object at 0x7f2444320590>],\n",
       "       [<matplotlib.axes._subplots.AxesSubplot object at 0x7f24442dfb50>,\n",
       "        <matplotlib.axes._subplots.AxesSubplot object at 0x7f2444139fd0>,\n",
       "        <matplotlib.axes._subplots.AxesSubplot object at 0x7f2444123950>,\n",
       "        <matplotlib.axes._subplots.AxesSubplot object at 0x7f24440dafd0>],\n",
       "       [<matplotlib.axes._subplots.AxesSubplot object at 0x7f244409c690>,\n",
       "        <matplotlib.axes._subplots.AxesSubplot object at 0x7f2444052d10>,\n",
       "        <matplotlib.axes._subplots.AxesSubplot object at 0x7f241dafd3d0>,\n",
       "        <matplotlib.axes._subplots.AxesSubplot object at 0x7f241dab1a50>]],\n",
       "      dtype=object)"
      ]
     },
     "execution_count": 7,
     "metadata": {},
     "output_type": "execute_result"
    },
    {
     "data": {
      "image/png": "[encoded data removed]",
      "text/plain": [
       "<Figure size 1440x1440 with 16 Axes>"
      ]
     },
     "metadata": {
      "needs_background": "light"
     },
     "output_type": "display_data"
    }
   ],
   "source": [
    "train.hist(bins = 30, figsize = (20,20), color = 'b')"
   ]
  },
  {
   "cell_type": "markdown",
   "metadata": {
    "papermill": {
     "duration": 0.015505,
     "end_time": "2021-01-27T19:52:49.017773",
     "exception": false,
     "start_time": "2021-01-27T19:52:49.002268",
     "status": "completed"
    },
    "tags": []
   },
   "source": [
    "# Correlation Analysis"
   ]
  },
  {
   "cell_type": "code",
   "execution_count": 8,
   "metadata": {
    "execution": {
     "iopub.execute_input": "2021-01-27T19:52:49.055374Z",
     "iopub.status.busy": "2021-01-27T19:52:49.054277Z",
     "iopub.status.idle": "2021-01-27T19:52:50.259351Z",
     "shell.execute_reply": "2021-01-27T19:52:50.259785Z"
    },
    "papermill": {
     "duration": 1.2264,
     "end_time": "2021-01-27T19:52:50.259906",
     "exception": false,
     "start_time": "2021-01-27T19:52:49.033506",
     "status": "completed"
    },
    "tags": []
   },
   "outputs": [
    {
     "data": {
      "text/plain": [
       "<matplotlib.axes._subplots.AxesSubplot at 0x7f24444dd790>"
      ]
     },
     "execution_count": 8,
     "metadata": {},
     "output_type": "execute_result"
    },
    {
     "data": {
      "image/png": "[encoded data removed]",
      "text/plain": [
       "<Figure size 1440x1440 with 2 Axes>"
      ]
     },
     "metadata": {
      "needs_background": "light"
     },
     "output_type": "display_data"
    }
   ],
   "source": [
    "correlations = train.corr()\n",
    "f, ax = plt.subplots(figsize = (20,20))\n",
    "sns.heatmap(correlations, annot = True)"
   ]
  },
  {
   "cell_type": "code",
   "execution_count": 9,
   "metadata": {
    "execution": {
     "iopub.execute_input": "2021-01-27T19:52:50.325001Z",
     "iopub.status.busy": "2021-01-27T19:52:50.323832Z",
     "iopub.status.idle": "2021-01-27T19:52:50.602000Z",
     "shell.execute_reply": "2021-01-27T19:52:50.603102Z"
    },
    "papermill": {
     "duration": 0.323736,
     "end_time": "2021-01-27T19:52:50.603275",
     "exception": false,
     "start_time": "2021-01-27T19:52:50.279539",
     "status": "completed"
    },
    "tags": []
   },
   "outputs": [
    {
     "data": {
      "text/plain": [
       "cont1    -0.032994\n",
       "cont10   -0.021143\n",
       "cont9    -0.013029\n",
       "cont13   -0.006642\n",
       "cont14   -0.006609\n",
       "cont5    -0.005358\n",
       "id        0.001347\n",
       "cont4     0.005522\n",
       "cont8     0.014698\n",
       "cont6     0.027955\n",
       "cont12    0.047809\n",
       "cont11    0.050996\n",
       "cont3     0.058936\n",
       "cont2     0.067102\n",
       "cont7     0.067234\n",
       "target    1.000000\n",
       "Name: target, dtype: float64"
      ]
     },
     "execution_count": 9,
     "metadata": {},
     "output_type": "execute_result"
    }
   ],
   "source": [
    "correlations = train.corr()['target'].sort_values()\n",
    "correlations"
   ]
  },
  {
   "cell_type": "code",
   "execution_count": 10,
   "metadata": {
    "execution": {
     "iopub.execute_input": "2021-01-27T19:52:50.701588Z",
     "iopub.status.busy": "2021-01-27T19:52:50.689791Z",
     "iopub.status.idle": "2021-01-27T19:52:50.706246Z",
     "shell.execute_reply": "2021-01-27T19:52:50.705601Z"
    },
    "papermill": {
     "duration": 0.069309,
     "end_time": "2021-01-27T19:52:50.706384",
     "exception": false,
     "start_time": "2021-01-27T19:52:50.637075",
     "status": "completed"
    },
    "tags": []
   },
   "outputs": [],
   "source": [
    "X = train.drop(['id','target'], axis = 1)\n",
    "y = train['target']\n",
    "test = test.drop(['id'], axis= 1)"
   ]
  },
  {
   "cell_type": "markdown",
   "metadata": {
    "papermill": {
     "duration": 0.032924,
     "end_time": "2021-01-27T19:52:50.772960",
     "exception": false,
     "start_time": "2021-01-27T19:52:50.740036",
     "status": "completed"
    },
    "tags": []
   },
   "source": [
    "# Paramenters XGBoost, LGBM, CatBoost"
   ]
  },
  {
   "cell_type": "code",
   "execution_count": 11,
   "metadata": {
    "execution": {
     "iopub.execute_input": "2021-01-27T19:52:50.855097Z",
     "iopub.status.busy": "2021-01-27T19:52:50.854229Z",
     "iopub.status.idle": "2021-01-27T19:52:50.859379Z",
     "shell.execute_reply": "2021-01-27T19:52:50.858731Z"
    },
    "papermill": {
     "duration": 0.053503,
     "end_time": "2021-01-27T19:52:50.859511",
     "exception": false,
     "start_time": "2021-01-27T19:52:50.806008",
     "status": "completed"
    },
    "tags": []
   },
   "outputs": [],
   "source": [
    "#https://www.kaggle.com/hamzaghanmi/xgboost-hyperparameter-tuning-using-optuna\n",
    "\n",
    "param_xgb = {'lambda': 0.0030282073258141168, \n",
    "             'alpha': 0.01563845128469084, \n",
    "             'colsample_bytree': 0.5,\n",
    "             'subsample': 0.7,\n",
    "             'n_estimators': 1000, \n",
    "             'learning_rate': 0.01,\n",
    "             'max_depth': 15,\n",
    "             'random_state': 2020, \n",
    "             'min_child_weight': 257,\n",
    "             'tree_method':'gpu_hist',\n",
    "             'predictor': 'gpu_predictor'}\n",
    "\n",
    "# parameters from this awesome kernal \n",
    "# https://www.kaggle.com/hamditarek/tabular-playground-series-xgboost-lightgbm\n",
    "param_lgbm ={'random_state': 33,'n_estimators':1000,\n",
    " 'min_data_per_group': 5,\n",
    " 'boosting_type': 'gbdt',\n",
    " 'device_type' : 'gpu',\n",
    " 'num_leaves': 256,\n",
    " 'num_iterations' : 1000,\n",
    " 'max_dept': -1,\n",
    " 'learning_rate': 0.005,\n",
    " 'subsample_for_bin': 200000,\n",
    " 'lambda_l1': 1.074622455507616e-05,\n",
    " 'lambda_l2': 2.0521330798729704e-06,\n",
    " 'n_jobs': -1,\n",
    " 'cat_smooth': 1.0,\n",
    " 'silent': True,\n",
    " 'importance_type': 'split',\n",
    " 'metric': 'rmse',\n",
    " 'feature_pre_filter': False,\n",
    " 'bagging_fraction': 0.8206341150202605,\n",
    " 'min_data_in_leaf': 100,\n",
    " 'min_sum_hessian_in_leaf': 0.001,\n",
    " 'bagging_freq': 6,\n",
    " 'feature_fraction': 0.5,\n",
    " 'min_gain_to_split': 0.0,\n",
    " 'min_child_samples': 20}\n",
    "\n",
    "#https://www.kaggle.com/bhavikjain/lgbm-xgboost-catboost-tabular-playground-series\n",
    "param_cat = {'iterations': 1000,\n",
    "                             'learning_rate': 0.05,\n",
    "                             'depth': 10,\n",
    "                             'reg_lambda': 10,\n",
    "                             'eval_metric': 'RMSE',\n",
    "                             'bagging_temperature': 0.2,\n",
    "                             'od_type': 'Iter',\n",
    "                             'metric_period': 50,\n",
    "                             'od_wait': 20\n",
    "}"
   ]
  },
  {
   "cell_type": "markdown",
   "metadata": {
    "papermill": {
     "duration": 0.021731,
     "end_time": "2021-01-27T19:52:50.916960",
     "exception": false,
     "start_time": "2021-01-27T19:52:50.895229",
     "status": "completed"
    },
    "tags": []
   },
   "source": [
    "# Stacking Model"
   ]
  },
  {
   "cell_type": "code",
   "execution_count": 12,
   "metadata": {
    "execution": {
     "iopub.execute_input": "2021-01-27T19:52:50.964786Z",
     "iopub.status.busy": "2021-01-27T19:52:50.964073Z",
     "iopub.status.idle": "2021-01-27T23:02:28.691572Z",
     "shell.execute_reply": "2021-01-27T23:02:28.692027Z"
    },
    "papermill": {
     "duration": 11377.755239,
     "end_time": "2021-01-27T23:02:28.692170",
     "exception": false,
     "start_time": "2021-01-27T19:52:50.936931",
     "status": "completed"
    },
    "tags": []
   },
   "outputs": [
    {
     "name": "stdout",
     "output_type": "stream",
     "text": [
      "0:\tlearn: 0.7316132\ttotal: 18.1ms\tremaining: 18.1s\n",
      "50:\tlearn: 0.7123587\ttotal: 465ms\tremaining: 8.66s\n",
      "100:\tlearn: 0.7061295\ttotal: 901ms\tremaining: 8.02s\n",
      "150:\tlearn: 0.7014030\ttotal: 1.3s\tremaining: 7.32s\n",
      "200:\tlearn: 0.6972243\ttotal: 1.7s\tremaining: 6.75s\n",
      "250:\tlearn: 0.6932970\ttotal: 2.1s\tremaining: 6.25s\n",
      "300:\tlearn: 0.6897593\ttotal: 2.89s\tremaining: 6.72s\n",
      "350:\tlearn: 0.6863413\ttotal: 3.89s\tremaining: 7.19s\n",
      "400:\tlearn: 0.6833766\ttotal: 4.29s\tremaining: 6.41s\n",
      "450:\tlearn: 0.6805731\ttotal: 4.69s\tremaining: 5.71s\n",
      "500:\tlearn: 0.6777751\ttotal: 5.08s\tremaining: 5.06s\n",
      "550:\tlearn: 0.6751974\ttotal: 5.49s\tremaining: 4.47s\n",
      "600:\tlearn: 0.6729551\ttotal: 5.88s\tremaining: 3.9s\n",
      "650:\tlearn: 0.6710768\ttotal: 6.28s\tremaining: 3.36s\n",
      "700:\tlearn: 0.6693792\ttotal: 6.67s\tremaining: 2.85s\n",
      "750:\tlearn: 0.6678831\ttotal: 7.07s\tremaining: 2.35s\n",
      "800:\tlearn: 0.6660189\ttotal: 7.47s\tremaining: 1.85s\n",
      "850:\tlearn: 0.6645222\ttotal: 7.89s\tremaining: 1.38s\n",
      "900:\tlearn: 0.6633578\ttotal: 8.3s\tremaining: 912ms\n",
      "950:\tlearn: 0.6622911\ttotal: 8.7s\tremaining: 448ms\n",
      "999:\tlearn: 0.6610762\ttotal: 9.1s\tremaining: 0us\n"
     ]
    },
    {
     "name": "stderr",
     "output_type": "stream",
     "text": [
      "/opt/conda/lib/python3.7/site-packages/lightgbm/engine.py:148: UserWarning: Found `num_iterations` in params. Will use it instead of argument\n",
      "  warnings.warn(\"Found `{}` in params. Will use it instead of argument\".format(alias))\n"
     ]
    },
    {
     "name": "stdout",
     "output_type": "stream",
     "text": [
      "0:\tlearn: 0.7308505\ttotal: 10ms\tremaining: 9.99s\n",
      "50:\tlearn: 0.7101803\ttotal: 456ms\tremaining: 8.48s\n",
      "100:\tlearn: 0.7034957\ttotal: 847ms\tremaining: 7.54s\n",
      "150:\tlearn: 0.6981724\ttotal: 1.24s\tremaining: 6.97s\n",
      "200:\tlearn: 0.6936466\ttotal: 1.63s\tremaining: 6.48s\n",
      "250:\tlearn: 0.6899700\ttotal: 2.02s\tremaining: 6.03s\n",
      "300:\tlearn: 0.6867189\ttotal: 2.42s\tremaining: 5.61s\n",
      "350:\tlearn: 0.6840211\ttotal: 2.81s\tremaining: 5.2s\n",
      "400:\tlearn: 0.6816716\ttotal: 3.21s\tremaining: 4.79s\n",
      "450:\tlearn: 0.6794138\ttotal: 3.61s\tremaining: 4.39s\n",
      "500:\tlearn: 0.6772416\ttotal: 4.01s\tremaining: 3.99s\n",
      "550:\tlearn: 0.6752179\ttotal: 4.44s\tremaining: 3.62s\n",
      "600:\tlearn: 0.6730167\ttotal: 4.84s\tremaining: 3.21s\n",
      "650:\tlearn: 0.6712912\ttotal: 5.24s\tremaining: 2.81s\n",
      "700:\tlearn: 0.6694101\ttotal: 5.63s\tremaining: 2.4s\n",
      "750:\tlearn: 0.6679275\ttotal: 6.03s\tremaining: 2s\n",
      "800:\tlearn: 0.6647963\ttotal: 6.56s\tremaining: 1.63s\n",
      "850:\tlearn: 0.6616851\ttotal: 7.11s\tremaining: 1.25s\n",
      "900:\tlearn: 0.6589171\ttotal: 7.52s\tremaining: 826ms\n",
      "950:\tlearn: 0.6564246\ttotal: 7.91s\tremaining: 408ms\n",
      "999:\tlearn: 0.6541948\ttotal: 8.29s\tremaining: 0us\n",
      "0:\tlearn: 0.7312668\ttotal: 9.53ms\tremaining: 9.52s\n",
      "50:\tlearn: 0.7103112\ttotal: 400ms\tremaining: 7.44s\n",
      "100:\tlearn: 0.7032308\ttotal: 791ms\tremaining: 7.04s\n",
      "150:\tlearn: 0.6979715\ttotal: 1.18s\tremaining: 6.63s\n",
      "200:\tlearn: 0.6931878\ttotal: 1.57s\tremaining: 6.25s\n",
      "250:\tlearn: 0.6883128\ttotal: 1.96s\tremaining: 5.86s\n",
      "300:\tlearn: 0.6841504\ttotal: 2.36s\tremaining: 5.47s\n",
      "350:\tlearn: 0.6809238\ttotal: 2.75s\tremaining: 5.08s\n",
      "400:\tlearn: 0.6783249\ttotal: 3.14s\tremaining: 4.69s\n",
      "450:\tlearn: 0.6757064\ttotal: 3.54s\tremaining: 4.3s\n",
      "500:\tlearn: 0.6724689\ttotal: 3.93s\tremaining: 3.91s\n",
      "550:\tlearn: 0.6699715\ttotal: 4.32s\tremaining: 3.52s\n",
      "600:\tlearn: 0.6673814\ttotal: 4.71s\tremaining: 3.13s\n",
      "650:\tlearn: 0.6654209\ttotal: 5.12s\tremaining: 2.75s\n",
      "700:\tlearn: 0.6630225\ttotal: 5.53s\tremaining: 2.36s\n",
      "750:\tlearn: 0.6607375\ttotal: 5.92s\tremaining: 1.96s\n",
      "800:\tlearn: 0.6588477\ttotal: 6.32s\tremaining: 1.57s\n",
      "850:\tlearn: 0.6565537\ttotal: 6.71s\tremaining: 1.17s\n",
      "900:\tlearn: 0.6544374\ttotal: 7.1s\tremaining: 780ms\n",
      "950:\tlearn: 0.6512451\ttotal: 7.5s\tremaining: 387ms\n",
      "999:\tlearn: 0.6483670\ttotal: 7.89s\tremaining: 0us\n",
      "0:\tlearn: 0.7312392\ttotal: 9.71ms\tremaining: 9.7s\n",
      "50:\tlearn: 0.7108179\ttotal: 410ms\tremaining: 7.63s\n",
      "100:\tlearn: 0.7037199\ttotal: 805ms\tremaining: 7.16s\n",
      "150:\tlearn: 0.6981894\ttotal: 1.22s\tremaining: 6.83s\n",
      "200:\tlearn: 0.6934302\ttotal: 1.61s\tremaining: 6.41s\n",
      "250:\tlearn: 0.6891391\ttotal: 2s\tremaining: 5.98s\n",
      "300:\tlearn: 0.6849575\ttotal: 2.4s\tremaining: 5.57s\n",
      "350:\tlearn: 0.6811438\ttotal: 2.79s\tremaining: 5.17s\n",
      "400:\tlearn: 0.6769300\ttotal: 3.19s\tremaining: 4.77s\n",
      "450:\tlearn: 0.6738009\ttotal: 3.59s\tremaining: 4.37s\n",
      "500:\tlearn: 0.6719563\ttotal: 3.99s\tremaining: 3.97s\n",
      "550:\tlearn: 0.6700583\ttotal: 4.38s\tremaining: 3.57s\n",
      "600:\tlearn: 0.6681004\ttotal: 4.78s\tremaining: 3.17s\n",
      "650:\tlearn: 0.6656156\ttotal: 5.17s\tremaining: 2.77s\n",
      "700:\tlearn: 0.6627268\ttotal: 5.57s\tremaining: 2.37s\n",
      "750:\tlearn: 0.6597278\ttotal: 5.97s\tremaining: 1.98s\n",
      "800:\tlearn: 0.6571130\ttotal: 6.36s\tremaining: 1.58s\n",
      "850:\tlearn: 0.6540266\ttotal: 6.79s\tremaining: 1.19s\n",
      "900:\tlearn: 0.6509003\ttotal: 7.19s\tremaining: 790ms\n",
      "950:\tlearn: 0.6484182\ttotal: 7.58s\tremaining: 391ms\n",
      "999:\tlearn: 0.6462664\ttotal: 8.02s\tremaining: 0us\n",
      "0:\tlearn: 0.7320100\ttotal: 9.56ms\tremaining: 9.55s\n",
      "50:\tlearn: 0.7120916\ttotal: 533ms\tremaining: 9.91s\n",
      "100:\tlearn: 0.7053701\ttotal: 1.12s\tremaining: 9.94s\n",
      "150:\tlearn: 0.7000259\ttotal: 1.51s\tremaining: 8.52s\n",
      "200:\tlearn: 0.6953181\ttotal: 1.91s\tremaining: 7.58s\n",
      "250:\tlearn: 0.6909278\ttotal: 2.29s\tremaining: 6.85s\n",
      "300:\tlearn: 0.6867463\ttotal: 2.73s\tremaining: 6.34s\n",
      "350:\tlearn: 0.6833451\ttotal: 3.13s\tremaining: 5.79s\n",
      "400:\tlearn: 0.6809528\ttotal: 3.52s\tremaining: 5.26s\n",
      "450:\tlearn: 0.6789501\ttotal: 3.92s\tremaining: 4.77s\n",
      "500:\tlearn: 0.6770044\ttotal: 4.31s\tremaining: 4.29s\n",
      "550:\tlearn: 0.6744809\ttotal: 4.71s\tremaining: 3.84s\n",
      "600:\tlearn: 0.6718196\ttotal: 5.11s\tremaining: 3.39s\n",
      "650:\tlearn: 0.6696654\ttotal: 5.5s\tremaining: 2.95s\n",
      "700:\tlearn: 0.6674240\ttotal: 5.9s\tremaining: 2.52s\n",
      "750:\tlearn: 0.6648085\ttotal: 6.33s\tremaining: 2.1s\n",
      "800:\tlearn: 0.6626336\ttotal: 6.73s\tremaining: 1.67s\n",
      "850:\tlearn: 0.6599873\ttotal: 7.13s\tremaining: 1.25s\n",
      "900:\tlearn: 0.6577572\ttotal: 7.53s\tremaining: 827ms\n",
      "950:\tlearn: 0.6548304\ttotal: 7.92s\tremaining: 408ms\n",
      "999:\tlearn: 0.6520930\ttotal: 8.31s\tremaining: 0us\n",
      "0:\tlearn: 0.7319836\ttotal: 9.48ms\tremaining: 9.47s\n",
      "50:\tlearn: 0.7123368\ttotal: 406ms\tremaining: 7.55s\n",
      "100:\tlearn: 0.7055792\ttotal: 800ms\tremaining: 7.12s\n",
      "150:\tlearn: 0.7003330\ttotal: 1.19s\tremaining: 6.71s\n",
      "200:\tlearn: 0.6957681\ttotal: 1.58s\tremaining: 6.3s\n",
      "250:\tlearn: 0.6909958\ttotal: 2.09s\tremaining: 6.25s\n",
      "300:\tlearn: 0.6864027\ttotal: 2.71s\tremaining: 6.3s\n",
      "350:\tlearn: 0.6830288\ttotal: 3.12s\tremaining: 5.76s\n",
      "400:\tlearn: 0.6796119\ttotal: 3.51s\tremaining: 5.25s\n",
      "450:\tlearn: 0.6761053\ttotal: 3.9s\tremaining: 4.75s\n",
      "500:\tlearn: 0.6732622\ttotal: 4.29s\tremaining: 4.28s\n",
      "550:\tlearn: 0.6701769\ttotal: 4.69s\tremaining: 3.82s\n",
      "600:\tlearn: 0.6676000\ttotal: 5.08s\tremaining: 3.37s\n",
      "650:\tlearn: 0.6643428\ttotal: 5.47s\tremaining: 2.93s\n",
      "700:\tlearn: 0.6615504\ttotal: 5.86s\tremaining: 2.5s\n",
      "750:\tlearn: 0.6584827\ttotal: 6.25s\tremaining: 2.07s\n",
      "800:\tlearn: 0.6558171\ttotal: 6.64s\tremaining: 1.65s\n",
      "850:\tlearn: 0.6534048\ttotal: 7.05s\tremaining: 1.23s\n",
      "900:\tlearn: 0.6513709\ttotal: 7.44s\tremaining: 818ms\n",
      "950:\tlearn: 0.6497737\ttotal: 7.83s\tremaining: 404ms\n",
      "999:\tlearn: 0.6484375\ttotal: 8.21s\tremaining: 0us\n"
     ]
    },
    {
     "name": "stderr",
     "output_type": "stream",
     "text": [
      "/opt/conda/lib/python3.7/site-packages/lightgbm/engine.py:148: UserWarning: Found `num_iterations` in params. Will use it instead of argument\n",
      "  warnings.warn(\"Found `{}` in params. Will use it instead of argument\".format(alias))\n",
      "/opt/conda/lib/python3.7/site-packages/joblib/externals/loky/process_executor.py:706: UserWarning: A worker stopped while some jobs were given to the executor. This can be caused by a too short worker timeout or by a memory leak.\n",
      "  \"timeout or by a memory leak.\", UserWarning\n"
     ]
    },
    {
     "name": "stdout",
     "output_type": "stream",
     "text": [
      "0:\tlearn: 0.7322849\ttotal: 10.3ms\tremaining: 10.3s\n",
      "50:\tlearn: 0.7133398\ttotal: 481ms\tremaining: 8.95s\n",
      "100:\tlearn: 0.7074244\ttotal: 882ms\tremaining: 7.85s\n",
      "150:\tlearn: 0.7028189\ttotal: 1.28s\tremaining: 7.23s\n",
      "200:\tlearn: 0.6992229\ttotal: 1.73s\tremaining: 6.86s\n",
      "250:\tlearn: 0.6959779\ttotal: 2.13s\tremaining: 6.36s\n",
      "300:\tlearn: 0.6933119\ttotal: 2.54s\tremaining: 5.89s\n",
      "350:\tlearn: 0.6909067\ttotal: 2.95s\tremaining: 5.46s\n",
      "400:\tlearn: 0.6887135\ttotal: 3.36s\tremaining: 5.01s\n",
      "450:\tlearn: 0.6865703\ttotal: 3.85s\tremaining: 4.69s\n",
      "500:\tlearn: 0.6846015\ttotal: 4.36s\tremaining: 4.34s\n",
      "550:\tlearn: 0.6827216\ttotal: 4.88s\tremaining: 3.98s\n",
      "600:\tlearn: 0.6809040\ttotal: 5.29s\tremaining: 3.51s\n",
      "650:\tlearn: 0.6788024\ttotal: 5.7s\tremaining: 3.05s\n",
      "700:\tlearn: 0.6768981\ttotal: 6.1s\tremaining: 2.6s\n",
      "750:\tlearn: 0.6752038\ttotal: 6.51s\tremaining: 2.16s\n",
      "800:\tlearn: 0.6732845\ttotal: 6.92s\tremaining: 1.72s\n",
      "850:\tlearn: 0.6712724\ttotal: 7.32s\tremaining: 1.28s\n",
      "900:\tlearn: 0.6694211\ttotal: 7.72s\tremaining: 849ms\n",
      "950:\tlearn: 0.6675962\ttotal: 8.15s\tremaining: 420ms\n",
      "999:\tlearn: 0.6656339\ttotal: 8.55s\tremaining: 0us\n"
     ]
    },
    {
     "name": "stderr",
     "output_type": "stream",
     "text": [
      "/opt/conda/lib/python3.7/site-packages/lightgbm/engine.py:148: UserWarning: Found `num_iterations` in params. Will use it instead of argument\n",
      "  warnings.warn(\"Found `{}` in params. Will use it instead of argument\".format(alias))\n"
     ]
    },
    {
     "name": "stdout",
     "output_type": "stream",
     "text": [
      "0:\tlearn: 0.7316361\ttotal: 10.5ms\tremaining: 10.5s\n",
      "50:\tlearn: 0.7113371\ttotal: 515ms\tremaining: 9.59s\n",
      "100:\tlearn: 0.7040359\ttotal: 923ms\tremaining: 8.21s\n",
      "150:\tlearn: 0.6993059\ttotal: 1.32s\tremaining: 7.45s\n",
      "200:\tlearn: 0.6949381\ttotal: 1.73s\tremaining: 6.87s\n",
      "250:\tlearn: 0.6912045\ttotal: 2.13s\tremaining: 6.34s\n",
      "300:\tlearn: 0.6877828\ttotal: 2.52s\tremaining: 5.86s\n",
      "350:\tlearn: 0.6848264\ttotal: 2.92s\tremaining: 5.41s\n",
      "400:\tlearn: 0.6820129\ttotal: 3.32s\tremaining: 4.96s\n",
      "450:\tlearn: 0.6796786\ttotal: 3.72s\tremaining: 4.53s\n",
      "500:\tlearn: 0.6777943\ttotal: 4.12s\tremaining: 4.11s\n",
      "550:\tlearn: 0.6754070\ttotal: 4.52s\tremaining: 3.69s\n",
      "600:\tlearn: 0.6731024\ttotal: 4.92s\tremaining: 3.27s\n",
      "650:\tlearn: 0.6709650\ttotal: 5.32s\tremaining: 2.85s\n",
      "700:\tlearn: 0.6689871\ttotal: 5.72s\tremaining: 2.44s\n",
      "750:\tlearn: 0.6671220\ttotal: 6.12s\tremaining: 2.03s\n",
      "800:\tlearn: 0.6654120\ttotal: 6.53s\tremaining: 1.62s\n",
      "850:\tlearn: 0.6635525\ttotal: 6.92s\tremaining: 1.21s\n",
      "900:\tlearn: 0.6621046\ttotal: 7.47s\tremaining: 820ms\n",
      "950:\tlearn: 0.6613097\ttotal: 7.97s\tremaining: 411ms\n",
      "999:\tlearn: 0.6606722\ttotal: 8.41s\tremaining: 0us\n",
      "0:\tlearn: 0.7320561\ttotal: 9.54ms\tremaining: 9.54s\n",
      "50:\tlearn: 0.7119464\ttotal: 415ms\tremaining: 7.72s\n",
      "100:\tlearn: 0.7051360\ttotal: 837ms\tremaining: 7.45s\n",
      "150:\tlearn: 0.6997335\ttotal: 1.24s\tremaining: 6.96s\n",
      "200:\tlearn: 0.6949269\ttotal: 1.64s\tremaining: 6.53s\n",
      "250:\tlearn: 0.6903182\ttotal: 2.04s\tremaining: 6.09s\n",
      "300:\tlearn: 0.6858325\ttotal: 2.44s\tremaining: 5.67s\n",
      "350:\tlearn: 0.6822949\ttotal: 2.84s\tremaining: 5.25s\n",
      "400:\tlearn: 0.6785412\ttotal: 3.5s\tremaining: 5.22s\n",
      "450:\tlearn: 0.6762393\ttotal: 4.12s\tremaining: 5.02s\n",
      "500:\tlearn: 0.6743474\ttotal: 4.65s\tremaining: 4.63s\n",
      "550:\tlearn: 0.6731617\ttotal: 5.06s\tremaining: 4.12s\n",
      "600:\tlearn: 0.6719107\ttotal: 5.47s\tremaining: 3.63s\n",
      "650:\tlearn: 0.6702818\ttotal: 5.87s\tremaining: 3.15s\n",
      "700:\tlearn: 0.6684788\ttotal: 6.28s\tremaining: 2.68s\n",
      "750:\tlearn: 0.6668951\ttotal: 6.69s\tremaining: 2.22s\n",
      "800:\tlearn: 0.6661771\ttotal: 7.1s\tremaining: 1.76s\n",
      "850:\tlearn: 0.6651658\ttotal: 7.5s\tremaining: 1.31s\n",
      "900:\tlearn: 0.6640578\ttotal: 7.9s\tremaining: 869ms\n",
      "950:\tlearn: 0.6631216\ttotal: 8.33s\tremaining: 429ms\n",
      "999:\tlearn: 0.6606468\ttotal: 8.88s\tremaining: 0us\n",
      "0:\tlearn: 0.7321894\ttotal: 9.74ms\tremaining: 9.73s\n",
      "50:\tlearn: 0.7125618\ttotal: 417ms\tremaining: 7.75s\n",
      "100:\tlearn: 0.7058202\ttotal: 820ms\tremaining: 7.3s\n",
      "150:\tlearn: 0.7006860\ttotal: 1.23s\tremaining: 6.92s\n",
      "200:\tlearn: 0.6957961\ttotal: 1.64s\tremaining: 6.51s\n",
      "250:\tlearn: 0.6911833\ttotal: 2.04s\tremaining: 6.08s\n",
      "300:\tlearn: 0.6864093\ttotal: 2.44s\tremaining: 5.66s\n",
      "350:\tlearn: 0.6824565\ttotal: 2.84s\tremaining: 5.25s\n",
      "400:\tlearn: 0.6797775\ttotal: 3.25s\tremaining: 4.85s\n",
      "450:\tlearn: 0.6766277\ttotal: 3.65s\tremaining: 4.44s\n",
      "500:\tlearn: 0.6732653\ttotal: 4.06s\tremaining: 4.04s\n",
      "550:\tlearn: 0.6704026\ttotal: 4.46s\tremaining: 3.64s\n",
      "600:\tlearn: 0.6676622\ttotal: 4.86s\tremaining: 3.22s\n",
      "650:\tlearn: 0.6655053\ttotal: 5.25s\tremaining: 2.81s\n",
      "700:\tlearn: 0.6624396\ttotal: 5.65s\tremaining: 2.41s\n",
      "750:\tlearn: 0.6597657\ttotal: 6.05s\tremaining: 2.01s\n",
      "800:\tlearn: 0.6573817\ttotal: 6.46s\tremaining: 1.6s\n",
      "850:\tlearn: 0.6544585\ttotal: 6.85s\tremaining: 1.2s\n",
      "900:\tlearn: 0.6519105\ttotal: 7.25s\tremaining: 796ms\n",
      "950:\tlearn: 0.6500858\ttotal: 7.63s\tremaining: 393ms\n",
      "999:\tlearn: 0.6474742\ttotal: 8.02s\tremaining: 0us\n",
      "0:\tlearn: 0.7322986\ttotal: 9.45ms\tremaining: 9.44s\n",
      "50:\tlearn: 0.7124355\ttotal: 453ms\tremaining: 8.43s\n",
      "100:\tlearn: 0.7060250\ttotal: 1.22s\tremaining: 10.8s\n",
      "150:\tlearn: 0.7013034\ttotal: 1.63s\tremaining: 9.14s\n",
      "200:\tlearn: 0.6973279\ttotal: 2.07s\tremaining: 8.23s\n",
      "250:\tlearn: 0.6936317\ttotal: 2.48s\tremaining: 7.39s\n",
      "300:\tlearn: 0.6906650\ttotal: 2.87s\tremaining: 6.67s\n",
      "350:\tlearn: 0.6880793\ttotal: 3.27s\tremaining: 6.04s\n",
      "400:\tlearn: 0.6857867\ttotal: 3.66s\tremaining: 5.47s\n",
      "450:\tlearn: 0.6836079\ttotal: 4.06s\tremaining: 4.94s\n",
      "500:\tlearn: 0.6805180\ttotal: 4.46s\tremaining: 4.44s\n",
      "550:\tlearn: 0.6777660\ttotal: 4.85s\tremaining: 3.95s\n",
      "600:\tlearn: 0.6753828\ttotal: 5.25s\tremaining: 3.48s\n",
      "650:\tlearn: 0.6736504\ttotal: 5.64s\tremaining: 3.02s\n",
      "700:\tlearn: 0.6724892\ttotal: 6.04s\tremaining: 2.58s\n",
      "750:\tlearn: 0.6702326\ttotal: 6.45s\tremaining: 2.14s\n",
      "800:\tlearn: 0.6690234\ttotal: 6.85s\tremaining: 1.7s\n",
      "850:\tlearn: 0.6675716\ttotal: 7.25s\tremaining: 1.27s\n",
      "900:\tlearn: 0.6656885\ttotal: 7.65s\tremaining: 840ms\n",
      "950:\tlearn: 0.6633009\ttotal: 8.05s\tremaining: 415ms\n",
      "999:\tlearn: 0.6611556\ttotal: 8.45s\tremaining: 0us\n",
      "0:\tlearn: 0.7328085\ttotal: 9.92ms\tremaining: 9.91s\n",
      "50:\tlearn: 0.7129634\ttotal: 411ms\tremaining: 7.64s\n",
      "100:\tlearn: 0.7065764\ttotal: 815ms\tremaining: 7.25s\n",
      "150:\tlearn: 0.7020060\ttotal: 1.24s\tremaining: 6.97s\n",
      "200:\tlearn: 0.6981354\ttotal: 1.63s\tremaining: 6.49s\n",
      "250:\tlearn: 0.6942842\ttotal: 2.16s\tremaining: 6.46s\n",
      "300:\tlearn: 0.6910674\ttotal: 2.75s\tremaining: 6.38s\n",
      "350:\tlearn: 0.6881133\ttotal: 3.16s\tremaining: 5.84s\n",
      "400:\tlearn: 0.6858037\ttotal: 3.56s\tremaining: 5.32s\n",
      "450:\tlearn: 0.6834995\ttotal: 3.96s\tremaining: 4.82s\n",
      "500:\tlearn: 0.6810388\ttotal: 4.4s\tremaining: 4.38s\n",
      "550:\tlearn: 0.6791015\ttotal: 4.81s\tremaining: 3.92s\n",
      "600:\tlearn: 0.6766212\ttotal: 5.21s\tremaining: 3.46s\n",
      "650:\tlearn: 0.6744765\ttotal: 5.6s\tremaining: 3s\n",
      "700:\tlearn: 0.6730116\ttotal: 5.99s\tremaining: 2.56s\n",
      "750:\tlearn: 0.6706616\ttotal: 6.39s\tremaining: 2.12s\n",
      "800:\tlearn: 0.6685934\ttotal: 7.08s\tremaining: 1.76s\n",
      "850:\tlearn: 0.6663400\ttotal: 7.83s\tremaining: 1.37s\n",
      "900:\tlearn: 0.6643022\ttotal: 8.22s\tremaining: 904ms\n",
      "950:\tlearn: 0.6627294\ttotal: 8.63s\tremaining: 445ms\n",
      "999:\tlearn: 0.6610096\ttotal: 9.02s\tremaining: 0us\n"
     ]
    },
    {
     "name": "stderr",
     "output_type": "stream",
     "text": [
      "/opt/conda/lib/python3.7/site-packages/lightgbm/engine.py:148: UserWarning: Found `num_iterations` in params. Will use it instead of argument\n",
      "  warnings.warn(\"Found `{}` in params. Will use it instead of argument\".format(alias))\n",
      "/opt/conda/lib/python3.7/site-packages/joblib/externals/loky/process_executor.py:706: UserWarning: A worker stopped while some jobs were given to the executor. This can be caused by a too short worker timeout or by a memory leak.\n",
      "  \"timeout or by a memory leak.\", UserWarning\n"
     ]
    },
    {
     "name": "stdout",
     "output_type": "stream",
     "text": [
      "0:\tlearn: 0.7316776\ttotal: 10.5ms\tremaining: 10.5s\n",
      "50:\tlearn: 0.7129558\ttotal: 453ms\tremaining: 8.42s\n",
      "100:\tlearn: 0.7063398\ttotal: 865ms\tremaining: 7.7s\n",
      "150:\tlearn: 0.7018211\ttotal: 1.27s\tremaining: 7.12s\n",
      "200:\tlearn: 0.6979346\ttotal: 1.67s\tremaining: 6.62s\n",
      "250:\tlearn: 0.6944003\ttotal: 2.07s\tremaining: 6.17s\n",
      "300:\tlearn: 0.6908837\ttotal: 2.47s\tremaining: 5.74s\n",
      "350:\tlearn: 0.6880738\ttotal: 2.87s\tremaining: 5.3s\n",
      "400:\tlearn: 0.6846915\ttotal: 3.27s\tremaining: 4.89s\n",
      "450:\tlearn: 0.6816435\ttotal: 3.67s\tremaining: 4.47s\n",
      "500:\tlearn: 0.6787767\ttotal: 4.09s\tremaining: 4.07s\n",
      "550:\tlearn: 0.6760734\ttotal: 4.52s\tremaining: 3.69s\n",
      "600:\tlearn: 0.6738033\ttotal: 4.92s\tremaining: 3.27s\n",
      "650:\tlearn: 0.6714801\ttotal: 5.33s\tremaining: 2.86s\n",
      "700:\tlearn: 0.6692451\ttotal: 5.74s\tremaining: 2.45s\n",
      "750:\tlearn: 0.6668924\ttotal: 6.15s\tremaining: 2.04s\n",
      "800:\tlearn: 0.6645653\ttotal: 6.55s\tremaining: 1.63s\n",
      "850:\tlearn: 0.6623005\ttotal: 6.96s\tremaining: 1.22s\n",
      "900:\tlearn: 0.6603452\ttotal: 7.42s\tremaining: 815ms\n",
      "950:\tlearn: 0.6583341\ttotal: 7.94s\tremaining: 409ms\n",
      "999:\tlearn: 0.6565045\ttotal: 8.45s\tremaining: 0us\n"
     ]
    },
    {
     "name": "stderr",
     "output_type": "stream",
     "text": [
      "/opt/conda/lib/python3.7/site-packages/lightgbm/engine.py:148: UserWarning: Found `num_iterations` in params. Will use it instead of argument\n",
      "  warnings.warn(\"Found `{}` in params. Will use it instead of argument\".format(alias))\n"
     ]
    },
    {
     "name": "stdout",
     "output_type": "stream",
     "text": [
      "0:\tlearn: 0.7311424\ttotal: 10ms\tremaining: 10s\n",
      "50:\tlearn: 0.7114777\ttotal: 494ms\tremaining: 9.2s\n",
      "100:\tlearn: 0.7046239\ttotal: 893ms\tremaining: 7.94s\n",
      "150:\tlearn: 0.6993759\ttotal: 1.29s\tremaining: 7.26s\n",
      "200:\tlearn: 0.6948593\ttotal: 1.69s\tremaining: 6.71s\n",
      "250:\tlearn: 0.6908388\ttotal: 2.08s\tremaining: 6.2s\n",
      "300:\tlearn: 0.6872832\ttotal: 2.48s\tremaining: 5.76s\n",
      "350:\tlearn: 0.6844232\ttotal: 2.9s\tremaining: 5.36s\n",
      "400:\tlearn: 0.6819115\ttotal: 3.29s\tremaining: 4.91s\n",
      "450:\tlearn: 0.6799765\ttotal: 3.78s\tremaining: 4.6s\n",
      "500:\tlearn: 0.6776196\ttotal: 4.36s\tremaining: 4.34s\n",
      "550:\tlearn: 0.6754093\ttotal: 4.79s\tremaining: 3.9s\n",
      "600:\tlearn: 0.6734405\ttotal: 5.18s\tremaining: 3.44s\n",
      "650:\tlearn: 0.6715987\ttotal: 5.57s\tremaining: 2.98s\n",
      "700:\tlearn: 0.6696839\ttotal: 5.96s\tremaining: 2.54s\n",
      "750:\tlearn: 0.6679073\ttotal: 6.35s\tremaining: 2.1s\n",
      "800:\tlearn: 0.6658326\ttotal: 6.74s\tremaining: 1.67s\n",
      "850:\tlearn: 0.6641447\ttotal: 7.13s\tremaining: 1.25s\n",
      "900:\tlearn: 0.6628589\ttotal: 7.52s\tremaining: 826ms\n",
      "950:\tlearn: 0.6615339\ttotal: 7.91s\tremaining: 408ms\n",
      "999:\tlearn: 0.6611736\ttotal: 8.29s\tremaining: 0us\n",
      "0:\tlearn: 0.7313729\ttotal: 9.97ms\tremaining: 9.96s\n",
      "50:\tlearn: 0.7111881\ttotal: 409ms\tremaining: 7.62s\n",
      "100:\tlearn: 0.7041845\ttotal: 801ms\tremaining: 7.13s\n",
      "150:\tlearn: 0.6989994\ttotal: 1.19s\tremaining: 6.71s\n",
      "200:\tlearn: 0.6943888\ttotal: 1.58s\tremaining: 6.3s\n",
      "250:\tlearn: 0.6897972\ttotal: 1.98s\tremaining: 5.9s\n",
      "300:\tlearn: 0.6859884\ttotal: 2.37s\tremaining: 5.5s\n",
      "350:\tlearn: 0.6827036\ttotal: 2.75s\tremaining: 5.09s\n",
      "400:\tlearn: 0.6794518\ttotal: 3.15s\tremaining: 4.7s\n",
      "450:\tlearn: 0.6766261\ttotal: 3.55s\tremaining: 4.32s\n",
      "500:\tlearn: 0.6753858\ttotal: 3.95s\tremaining: 3.93s\n",
      "550:\tlearn: 0.6740269\ttotal: 4.35s\tremaining: 3.54s\n",
      "600:\tlearn: 0.6715037\ttotal: 4.74s\tremaining: 3.15s\n",
      "650:\tlearn: 0.6687410\ttotal: 5.13s\tremaining: 2.75s\n",
      "700:\tlearn: 0.6656121\ttotal: 5.67s\tremaining: 2.42s\n",
      "750:\tlearn: 0.6633450\ttotal: 6.09s\tremaining: 2.02s\n",
      "800:\tlearn: 0.6614987\ttotal: 6.53s\tremaining: 1.62s\n",
      "850:\tlearn: 0.6592823\ttotal: 6.92s\tremaining: 1.21s\n",
      "900:\tlearn: 0.6566516\ttotal: 7.31s\tremaining: 803ms\n",
      "950:\tlearn: 0.6544726\ttotal: 7.7s\tremaining: 396ms\n",
      "999:\tlearn: 0.6526664\ttotal: 8.08s\tremaining: 0us\n",
      "0:\tlearn: 0.7318469\ttotal: 9.41ms\tremaining: 9.4s\n",
      "50:\tlearn: 0.7119869\ttotal: 401ms\tremaining: 7.46s\n",
      "100:\tlearn: 0.7050292\ttotal: 792ms\tremaining: 7.05s\n",
      "150:\tlearn: 0.6997320\ttotal: 1.18s\tremaining: 6.66s\n",
      "200:\tlearn: 0.6947353\ttotal: 1.57s\tremaining: 6.26s\n",
      "250:\tlearn: 0.6902027\ttotal: 1.97s\tremaining: 5.86s\n",
      "300:\tlearn: 0.6860406\ttotal: 2.36s\tremaining: 5.47s\n",
      "350:\tlearn: 0.6824843\ttotal: 2.75s\tremaining: 5.09s\n",
      "400:\tlearn: 0.6796818\ttotal: 3.14s\tremaining: 4.69s\n",
      "450:\tlearn: 0.6769302\ttotal: 3.53s\tremaining: 4.3s\n",
      "500:\tlearn: 0.6748106\ttotal: 3.92s\tremaining: 3.9s\n",
      "550:\tlearn: 0.6739999\ttotal: 4.33s\tremaining: 3.53s\n",
      "600:\tlearn: 0.6731177\ttotal: 4.72s\tremaining: 3.13s\n",
      "650:\tlearn: 0.6717686\ttotal: 5.11s\tremaining: 2.74s\n",
      "700:\tlearn: 0.6708954\ttotal: 5.53s\tremaining: 2.36s\n",
      "750:\tlearn: 0.6677805\ttotal: 5.93s\tremaining: 1.97s\n",
      "800:\tlearn: 0.6662308\ttotal: 6.33s\tremaining: 1.57s\n",
      "850:\tlearn: 0.6650075\ttotal: 6.72s\tremaining: 1.18s\n",
      "900:\tlearn: 0.6632311\ttotal: 7.11s\tremaining: 781ms\n",
      "950:\tlearn: 0.6613498\ttotal: 8.23s\tremaining: 424ms\n",
      "999:\tlearn: 0.6588595\ttotal: 8.93s\tremaining: 0us\n",
      "0:\tlearn: 0.7320588\ttotal: 9.58ms\tremaining: 9.57s\n",
      "50:\tlearn: 0.7124904\ttotal: 405ms\tremaining: 7.54s\n",
      "100:\tlearn: 0.7058762\ttotal: 798ms\tremaining: 7.1s\n",
      "150:\tlearn: 0.7009629\ttotal: 1.19s\tremaining: 6.67s\n",
      "200:\tlearn: 0.6967670\ttotal: 1.57s\tremaining: 6.26s\n",
      "250:\tlearn: 0.6928526\ttotal: 1.96s\tremaining: 5.86s\n",
      "300:\tlearn: 0.6893140\ttotal: 2.44s\tremaining: 5.66s\n",
      "350:\tlearn: 0.6855845\ttotal: 2.86s\tremaining: 5.29s\n",
      "400:\tlearn: 0.6829629\ttotal: 3.25s\tremaining: 4.86s\n",
      "450:\tlearn: 0.6787251\ttotal: 3.65s\tremaining: 4.44s\n",
      "500:\tlearn: 0.6754794\ttotal: 4.04s\tremaining: 4.03s\n",
      "550:\tlearn: 0.6725500\ttotal: 4.48s\tremaining: 3.65s\n",
      "600:\tlearn: 0.6698850\ttotal: 4.88s\tremaining: 3.24s\n",
      "650:\tlearn: 0.6676630\ttotal: 5.28s\tremaining: 2.83s\n",
      "700:\tlearn: 0.6647308\ttotal: 5.67s\tremaining: 2.42s\n",
      "750:\tlearn: 0.6629257\ttotal: 6.08s\tremaining: 2.01s\n",
      "800:\tlearn: 0.6608362\ttotal: 6.48s\tremaining: 1.61s\n",
      "850:\tlearn: 0.6585122\ttotal: 6.87s\tremaining: 1.2s\n",
      "900:\tlearn: 0.6566364\ttotal: 7.28s\tremaining: 800ms\n",
      "950:\tlearn: 0.6542730\ttotal: 7.67s\tremaining: 395ms\n",
      "999:\tlearn: 0.6528235\ttotal: 8.06s\tremaining: 0us\n",
      "0:\tlearn: 0.7321484\ttotal: 9.49ms\tremaining: 9.48s\n",
      "50:\tlearn: 0.7126942\ttotal: 402ms\tremaining: 7.47s\n",
      "100:\tlearn: 0.7060791\ttotal: 792ms\tremaining: 7.05s\n",
      "150:\tlearn: 0.7012504\ttotal: 1.18s\tremaining: 6.63s\n",
      "200:\tlearn: 0.6969987\ttotal: 1.57s\tremaining: 6.25s\n",
      "250:\tlearn: 0.6932228\ttotal: 1.96s\tremaining: 5.85s\n",
      "300:\tlearn: 0.6895456\ttotal: 2.35s\tremaining: 5.47s\n",
      "350:\tlearn: 0.6861867\ttotal: 2.75s\tremaining: 5.09s\n",
      "400:\tlearn: 0.6830946\ttotal: 3.15s\tremaining: 4.7s\n",
      "450:\tlearn: 0.6805914\ttotal: 3.55s\tremaining: 4.32s\n",
      "500:\tlearn: 0.6784604\ttotal: 3.94s\tremaining: 3.93s\n",
      "550:\tlearn: 0.6763595\ttotal: 4.34s\tremaining: 3.54s\n",
      "600:\tlearn: 0.6738568\ttotal: 4.73s\tremaining: 3.14s\n",
      "650:\tlearn: 0.6718108\ttotal: 5.14s\tremaining: 2.75s\n",
      "700:\tlearn: 0.6700101\ttotal: 5.54s\tremaining: 2.36s\n",
      "750:\tlearn: 0.6679375\ttotal: 5.93s\tremaining: 1.97s\n",
      "800:\tlearn: 0.6659777\ttotal: 6.33s\tremaining: 1.57s\n",
      "850:\tlearn: 0.6643945\ttotal: 6.72s\tremaining: 1.18s\n",
      "900:\tlearn: 0.6629248\ttotal: 7.11s\tremaining: 781ms\n",
      "950:\tlearn: 0.6606131\ttotal: 7.51s\tremaining: 387ms\n",
      "999:\tlearn: 0.6582852\ttotal: 7.89s\tremaining: 0us\n"
     ]
    },
    {
     "name": "stderr",
     "output_type": "stream",
     "text": [
      "/opt/conda/lib/python3.7/site-packages/lightgbm/engine.py:148: UserWarning: Found `num_iterations` in params. Will use it instead of argument\n",
      "  warnings.warn(\"Found `{}` in params. Will use it instead of argument\".format(alias))\n",
      "/opt/conda/lib/python3.7/site-packages/joblib/externals/loky/process_executor.py:706: UserWarning: A worker stopped while some jobs were given to the executor. This can be caused by a too short worker timeout or by a memory leak.\n",
      "  \"timeout or by a memory leak.\", UserWarning\n"
     ]
    },
    {
     "name": "stdout",
     "output_type": "stream",
     "text": [
      "0:\tlearn: 0.7318435\ttotal: 10.3ms\tremaining: 10.3s\n",
      "50:\tlearn: 0.7129969\ttotal: 533ms\tremaining: 9.92s\n",
      "100:\tlearn: 0.7067492\ttotal: 939ms\tremaining: 8.36s\n",
      "150:\tlearn: 0.7025389\ttotal: 1.34s\tremaining: 7.55s\n",
      "200:\tlearn: 0.6988240\ttotal: 1.78s\tremaining: 7.07s\n",
      "250:\tlearn: 0.6952788\ttotal: 2.18s\tremaining: 6.51s\n",
      "300:\tlearn: 0.6924710\ttotal: 2.59s\tremaining: 6.01s\n",
      "350:\tlearn: 0.6900180\ttotal: 2.98s\tremaining: 5.52s\n",
      "400:\tlearn: 0.6878727\ttotal: 3.38s\tremaining: 5.05s\n",
      "450:\tlearn: 0.6854769\ttotal: 3.78s\tremaining: 4.6s\n",
      "500:\tlearn: 0.6832451\ttotal: 4.28s\tremaining: 4.26s\n",
      "550:\tlearn: 0.6809951\ttotal: 5.07s\tremaining: 4.13s\n",
      "600:\tlearn: 0.6788572\ttotal: 5.62s\tremaining: 3.73s\n",
      "650:\tlearn: 0.6768580\ttotal: 6.02s\tremaining: 3.23s\n",
      "700:\tlearn: 0.6749341\ttotal: 6.42s\tremaining: 2.74s\n",
      "750:\tlearn: 0.6727537\ttotal: 6.82s\tremaining: 2.26s\n",
      "800:\tlearn: 0.6706201\ttotal: 7.23s\tremaining: 1.79s\n",
      "850:\tlearn: 0.6684366\ttotal: 7.63s\tremaining: 1.33s\n",
      "900:\tlearn: 0.6665561\ttotal: 8.04s\tremaining: 884ms\n",
      "950:\tlearn: 0.6650085\ttotal: 8.44s\tremaining: 435ms\n",
      "999:\tlearn: 0.6639747\ttotal: 8.84s\tremaining: 0us\n"
     ]
    },
    {
     "name": "stderr",
     "output_type": "stream",
     "text": [
      "/opt/conda/lib/python3.7/site-packages/lightgbm/engine.py:148: UserWarning: Found `num_iterations` in params. Will use it instead of argument\n",
      "  warnings.warn(\"Found `{}` in params. Will use it instead of argument\".format(alias))\n"
     ]
    },
    {
     "name": "stdout",
     "output_type": "stream",
     "text": [
      "0:\tlearn: 0.7309264\ttotal: 10ms\tremaining: 10s\n",
      "50:\tlearn: 0.7107318\ttotal: 537ms\tremaining: 10s\n",
      "100:\tlearn: 0.7033834\ttotal: 948ms\tremaining: 8.44s\n",
      "150:\tlearn: 0.6983532\ttotal: 1.35s\tremaining: 7.57s\n",
      "200:\tlearn: 0.6940443\ttotal: 1.75s\tremaining: 6.94s\n",
      "250:\tlearn: 0.6903571\ttotal: 2.14s\tremaining: 6.39s\n",
      "300:\tlearn: 0.6867846\ttotal: 2.54s\tremaining: 5.89s\n",
      "350:\tlearn: 0.6831049\ttotal: 2.93s\tremaining: 5.42s\n",
      "400:\tlearn: 0.6796220\ttotal: 3.33s\tremaining: 4.98s\n",
      "450:\tlearn: 0.6767043\ttotal: 3.74s\tremaining: 4.55s\n",
      "500:\tlearn: 0.6738316\ttotal: 4.13s\tremaining: 4.12s\n",
      "550:\tlearn: 0.6707707\ttotal: 4.53s\tremaining: 3.69s\n",
      "600:\tlearn: 0.6682027\ttotal: 4.93s\tremaining: 3.27s\n",
      "650:\tlearn: 0.6656848\ttotal: 5.32s\tremaining: 2.85s\n",
      "700:\tlearn: 0.6637747\ttotal: 5.72s\tremaining: 2.44s\n",
      "750:\tlearn: 0.6613770\ttotal: 6.12s\tremaining: 2.03s\n",
      "800:\tlearn: 0.6591119\ttotal: 6.52s\tremaining: 1.62s\n",
      "850:\tlearn: 0.6565291\ttotal: 7.1s\tremaining: 1.24s\n",
      "900:\tlearn: 0.6547858\ttotal: 7.65s\tremaining: 841ms\n",
      "950:\tlearn: 0.6531007\ttotal: 8.07s\tremaining: 416ms\n",
      "999:\tlearn: 0.6513716\ttotal: 8.46s\tremaining: 0us\n",
      "0:\tlearn: 0.7317889\ttotal: 9.62ms\tremaining: 9.61s\n",
      "50:\tlearn: 0.7115984\ttotal: 407ms\tremaining: 7.57s\n",
      "100:\tlearn: 0.7047215\ttotal: 1.07s\tremaining: 9.5s\n",
      "150:\tlearn: 0.6994361\ttotal: 1.66s\tremaining: 9.35s\n",
      "200:\tlearn: 0.6945598\ttotal: 2.13s\tremaining: 8.45s\n",
      "250:\tlearn: 0.6902564\ttotal: 2.53s\tremaining: 7.56s\n",
      "300:\tlearn: 0.6873950\ttotal: 2.93s\tremaining: 6.81s\n",
      "350:\tlearn: 0.6856285\ttotal: 3.33s\tremaining: 6.16s\n",
      "400:\tlearn: 0.6842059\ttotal: 3.73s\tremaining: 5.57s\n",
      "450:\tlearn: 0.6819989\ttotal: 4.13s\tremaining: 5.02s\n",
      "500:\tlearn: 0.6789713\ttotal: 4.52s\tremaining: 4.5s\n",
      "550:\tlearn: 0.6756090\ttotal: 4.92s\tremaining: 4.01s\n",
      "600:\tlearn: 0.6723363\ttotal: 5.31s\tremaining: 3.52s\n",
      "650:\tlearn: 0.6693177\ttotal: 5.7s\tremaining: 3.06s\n",
      "700:\tlearn: 0.6658819\ttotal: 6.1s\tremaining: 2.6s\n",
      "750:\tlearn: 0.6631181\ttotal: 6.5s\tremaining: 2.15s\n",
      "800:\tlearn: 0.6605019\ttotal: 6.9s\tremaining: 1.71s\n",
      "850:\tlearn: 0.6579150\ttotal: 7.3s\tremaining: 1.28s\n",
      "900:\tlearn: 0.6556308\ttotal: 7.69s\tremaining: 845ms\n",
      "950:\tlearn: 0.6536523\ttotal: 8.09s\tremaining: 417ms\n",
      "999:\tlearn: 0.6517251\ttotal: 8.69s\tremaining: 0us\n",
      "0:\tlearn: 0.7314055\ttotal: 9.57ms\tremaining: 9.56s\n",
      "50:\tlearn: 0.7113035\ttotal: 405ms\tremaining: 7.54s\n",
      "100:\tlearn: 0.7042417\ttotal: 798ms\tremaining: 7.11s\n",
      "150:\tlearn: 0.6990135\ttotal: 1.2s\tremaining: 6.72s\n",
      "200:\tlearn: 0.6943697\ttotal: 1.59s\tremaining: 6.32s\n",
      "250:\tlearn: 0.6902407\ttotal: 1.99s\tremaining: 5.93s\n",
      "300:\tlearn: 0.6865250\ttotal: 2.39s\tremaining: 5.56s\n",
      "350:\tlearn: 0.6835625\ttotal: 2.8s\tremaining: 5.18s\n",
      "400:\tlearn: 0.6802682\ttotal: 3.2s\tremaining: 4.78s\n",
      "450:\tlearn: 0.6776937\ttotal: 3.6s\tremaining: 4.38s\n",
      "500:\tlearn: 0.6747541\ttotal: 4s\tremaining: 3.98s\n",
      "550:\tlearn: 0.6723487\ttotal: 4.39s\tremaining: 3.58s\n",
      "600:\tlearn: 0.6695293\ttotal: 4.79s\tremaining: 3.18s\n",
      "650:\tlearn: 0.6661811\ttotal: 5.19s\tremaining: 2.78s\n",
      "700:\tlearn: 0.6630667\ttotal: 5.58s\tremaining: 2.38s\n",
      "750:\tlearn: 0.6600963\ttotal: 5.98s\tremaining: 1.98s\n",
      "800:\tlearn: 0.6577898\ttotal: 6.37s\tremaining: 1.58s\n",
      "850:\tlearn: 0.6556210\ttotal: 6.77s\tremaining: 1.18s\n",
      "900:\tlearn: 0.6534394\ttotal: 7.17s\tremaining: 788ms\n",
      "950:\tlearn: 0.6513713\ttotal: 7.57s\tremaining: 390ms\n",
      "999:\tlearn: 0.6481956\ttotal: 7.95s\tremaining: 0us\n",
      "0:\tlearn: 0.7322173\ttotal: 9.71ms\tremaining: 9.7s\n",
      "50:\tlearn: 0.7127240\ttotal: 406ms\tremaining: 7.56s\n",
      "100:\tlearn: 0.7061359\ttotal: 984ms\tremaining: 8.76s\n",
      "150:\tlearn: 0.7009686\ttotal: 1.5s\tremaining: 8.43s\n",
      "200:\tlearn: 0.6965732\ttotal: 1.89s\tremaining: 7.52s\n",
      "250:\tlearn: 0.6926485\ttotal: 2.28s\tremaining: 6.82s\n",
      "300:\tlearn: 0.6899123\ttotal: 2.7s\tremaining: 6.27s\n",
      "350:\tlearn: 0.6868616\ttotal: 3.17s\tremaining: 5.86s\n",
      "400:\tlearn: 0.6842048\ttotal: 3.56s\tremaining: 5.32s\n",
      "450:\tlearn: 0.6818850\ttotal: 3.98s\tremaining: 4.85s\n",
      "500:\tlearn: 0.6794844\ttotal: 4.37s\tremaining: 4.36s\n",
      "550:\tlearn: 0.6775728\ttotal: 4.76s\tremaining: 3.88s\n",
      "600:\tlearn: 0.6759065\ttotal: 5.15s\tremaining: 3.42s\n",
      "650:\tlearn: 0.6743927\ttotal: 5.54s\tremaining: 2.97s\n",
      "700:\tlearn: 0.6725681\ttotal: 5.93s\tremaining: 2.53s\n",
      "750:\tlearn: 0.6707563\ttotal: 6.33s\tremaining: 2.1s\n",
      "800:\tlearn: 0.6691487\ttotal: 6.72s\tremaining: 1.67s\n",
      "850:\tlearn: 0.6674826\ttotal: 7.12s\tremaining: 1.25s\n",
      "900:\tlearn: 0.6659326\ttotal: 7.51s\tremaining: 825ms\n",
      "950:\tlearn: 0.6637343\ttotal: 7.9s\tremaining: 407ms\n",
      "999:\tlearn: 0.6622118\ttotal: 8.28s\tremaining: 0us\n",
      "0:\tlearn: 0.7328242\ttotal: 9.43ms\tremaining: 9.42s\n",
      "50:\tlearn: 0.7136207\ttotal: 419ms\tremaining: 7.79s\n",
      "100:\tlearn: 0.7070289\ttotal: 812ms\tremaining: 7.23s\n",
      "150:\tlearn: 0.7020259\ttotal: 1.21s\tremaining: 6.79s\n",
      "200:\tlearn: 0.6979308\ttotal: 1.6s\tremaining: 6.38s\n",
      "250:\tlearn: 0.6942322\ttotal: 2s\tremaining: 5.96s\n",
      "300:\tlearn: 0.6912771\ttotal: 2.5s\tremaining: 5.8s\n",
      "350:\tlearn: 0.6892392\ttotal: 3.13s\tremaining: 5.78s\n",
      "400:\tlearn: 0.6868479\ttotal: 3.52s\tremaining: 5.26s\n",
      "450:\tlearn: 0.6848178\ttotal: 3.91s\tremaining: 4.76s\n",
      "500:\tlearn: 0.6831933\ttotal: 4.3s\tremaining: 4.28s\n",
      "550:\tlearn: 0.6814575\ttotal: 4.69s\tremaining: 3.82s\n",
      "600:\tlearn: 0.6797209\ttotal: 5.08s\tremaining: 3.38s\n",
      "650:\tlearn: 0.6786559\ttotal: 5.59s\tremaining: 3s\n",
      "700:\tlearn: 0.6777896\ttotal: 6.34s\tremaining: 2.7s\n",
      "750:\tlearn: 0.6764725\ttotal: 6.9s\tremaining: 2.29s\n",
      "800:\tlearn: 0.6745338\ttotal: 7.3s\tremaining: 1.81s\n",
      "850:\tlearn: 0.6725649\ttotal: 7.7s\tremaining: 1.35s\n",
      "900:\tlearn: 0.6703768\ttotal: 8.11s\tremaining: 891ms\n",
      "950:\tlearn: 0.6689620\ttotal: 8.51s\tremaining: 438ms\n",
      "999:\tlearn: 0.6672177\ttotal: 8.9s\tremaining: 0us\n"
     ]
    },
    {
     "name": "stderr",
     "output_type": "stream",
     "text": [
      "/opt/conda/lib/python3.7/site-packages/lightgbm/engine.py:148: UserWarning: Found `num_iterations` in params. Will use it instead of argument\n",
      "  warnings.warn(\"Found `{}` in params. Will use it instead of argument\".format(alias))\n",
      "/opt/conda/lib/python3.7/site-packages/joblib/externals/loky/process_executor.py:706: UserWarning: A worker stopped while some jobs were given to the executor. This can be caused by a too short worker timeout or by a memory leak.\n",
      "  \"timeout or by a memory leak.\", UserWarning\n"
     ]
    },
    {
     "name": "stdout",
     "output_type": "stream",
     "text": [
      "0:\tlearn: 0.7319189\ttotal: 10.9ms\tremaining: 10.9s\n",
      "50:\tlearn: 0.7127165\ttotal: 573ms\tremaining: 10.7s\n",
      "100:\tlearn: 0.7065482\ttotal: 986ms\tremaining: 8.78s\n",
      "150:\tlearn: 0.7017766\ttotal: 1.39s\tremaining: 7.83s\n",
      "200:\tlearn: 0.6981071\ttotal: 1.79s\tremaining: 7.14s\n",
      "250:\tlearn: 0.6948859\ttotal: 2.2s\tremaining: 6.56s\n",
      "300:\tlearn: 0.6918415\ttotal: 2.6s\tremaining: 6.05s\n",
      "350:\tlearn: 0.6890845\ttotal: 3.01s\tremaining: 5.57s\n",
      "400:\tlearn: 0.6867170\ttotal: 3.41s\tremaining: 5.1s\n",
      "450:\tlearn: 0.6846545\ttotal: 3.82s\tremaining: 4.65s\n",
      "500:\tlearn: 0.6822491\ttotal: 4.22s\tremaining: 4.21s\n",
      "550:\tlearn: 0.6801615\ttotal: 4.63s\tremaining: 3.77s\n",
      "600:\tlearn: 0.6779460\ttotal: 5.03s\tremaining: 3.34s\n",
      "650:\tlearn: 0.6760367\ttotal: 5.44s\tremaining: 2.92s\n",
      "700:\tlearn: 0.6741639\ttotal: 5.84s\tremaining: 2.49s\n",
      "750:\tlearn: 0.6721297\ttotal: 6.38s\tremaining: 2.11s\n",
      "800:\tlearn: 0.6701729\ttotal: 6.93s\tremaining: 1.72s\n",
      "850:\tlearn: 0.6684472\ttotal: 7.37s\tremaining: 1.29s\n",
      "900:\tlearn: 0.6665312\ttotal: 7.78s\tremaining: 854ms\n",
      "950:\tlearn: 0.6646348\ttotal: 8.18s\tremaining: 422ms\n",
      "999:\tlearn: 0.6628996\ttotal: 8.58s\tremaining: 0us\n"
     ]
    },
    {
     "name": "stderr",
     "output_type": "stream",
     "text": [
      "/opt/conda/lib/python3.7/site-packages/lightgbm/engine.py:148: UserWarning: Found `num_iterations` in params. Will use it instead of argument\n",
      "  warnings.warn(\"Found `{}` in params. Will use it instead of argument\".format(alias))\n"
     ]
    },
    {
     "name": "stdout",
     "output_type": "stream",
     "text": [
      "0:\tlearn: 0.7313152\ttotal: 10.2ms\tremaining: 10.2s\n",
      "50:\tlearn: 0.7108347\ttotal: 494ms\tremaining: 9.18s\n",
      "100:\tlearn: 0.7048938\ttotal: 974ms\tremaining: 8.67s\n",
      "150:\tlearn: 0.6999414\ttotal: 1.36s\tremaining: 7.68s\n",
      "200:\tlearn: 0.6960318\ttotal: 1.75s\tremaining: 6.98s\n",
      "250:\tlearn: 0.6924432\ttotal: 2.15s\tremaining: 6.4s\n",
      "300:\tlearn: 0.6889802\ttotal: 2.54s\tremaining: 5.9s\n",
      "350:\tlearn: 0.6859255\ttotal: 2.93s\tremaining: 5.42s\n",
      "400:\tlearn: 0.6835088\ttotal: 3.34s\tremaining: 4.99s\n",
      "450:\tlearn: 0.6815399\ttotal: 3.73s\tremaining: 4.54s\n",
      "500:\tlearn: 0.6793560\ttotal: 4.2s\tremaining: 4.19s\n",
      "550:\tlearn: 0.6769876\ttotal: 4.83s\tremaining: 3.94s\n",
      "600:\tlearn: 0.6749297\ttotal: 5.22s\tremaining: 3.47s\n",
      "650:\tlearn: 0.6727929\ttotal: 5.62s\tremaining: 3.02s\n",
      "700:\tlearn: 0.6707690\ttotal: 6.02s\tremaining: 2.57s\n",
      "750:\tlearn: 0.6694846\ttotal: 6.42s\tremaining: 2.13s\n",
      "800:\tlearn: 0.6673774\ttotal: 6.81s\tremaining: 1.69s\n",
      "850:\tlearn: 0.6664233\ttotal: 7.2s\tremaining: 1.26s\n",
      "900:\tlearn: 0.6652833\ttotal: 7.59s\tremaining: 835ms\n",
      "950:\tlearn: 0.6635675\ttotal: 7.99s\tremaining: 412ms\n",
      "999:\tlearn: 0.6619506\ttotal: 8.38s\tremaining: 0us\n",
      "0:\tlearn: 0.7316509\ttotal: 9.82ms\tremaining: 9.81s\n",
      "50:\tlearn: 0.7109202\ttotal: 412ms\tremaining: 7.66s\n",
      "100:\tlearn: 0.7038324\ttotal: 813ms\tremaining: 7.24s\n",
      "150:\tlearn: 0.6983396\ttotal: 1.21s\tremaining: 6.82s\n",
      "200:\tlearn: 0.6934860\ttotal: 1.6s\tremaining: 6.38s\n",
      "250:\tlearn: 0.6890708\ttotal: 2s\tremaining: 5.96s\n",
      "300:\tlearn: 0.6852133\ttotal: 2.39s\tremaining: 5.54s\n",
      "350:\tlearn: 0.6827284\ttotal: 2.77s\tremaining: 5.13s\n",
      "400:\tlearn: 0.6794876\ttotal: 3.16s\tremaining: 4.72s\n",
      "450:\tlearn: 0.6761790\ttotal: 3.56s\tremaining: 4.33s\n",
      "500:\tlearn: 0.6732795\ttotal: 3.95s\tremaining: 3.93s\n",
      "550:\tlearn: 0.6719615\ttotal: 4.35s\tremaining: 3.54s\n",
      "600:\tlearn: 0.6697793\ttotal: 4.74s\tremaining: 3.15s\n",
      "650:\tlearn: 0.6677341\ttotal: 5.13s\tremaining: 2.75s\n",
      "700:\tlearn: 0.6657211\ttotal: 5.53s\tremaining: 2.36s\n",
      "750:\tlearn: 0.6636548\ttotal: 6.31s\tremaining: 2.09s\n",
      "800:\tlearn: 0.6619074\ttotal: 6.71s\tremaining: 1.67s\n",
      "850:\tlearn: 0.6593901\ttotal: 7.09s\tremaining: 1.24s\n",
      "900:\tlearn: 0.6578666\ttotal: 7.48s\tremaining: 822ms\n",
      "950:\tlearn: 0.6554874\ttotal: 7.87s\tremaining: 405ms\n",
      "999:\tlearn: 0.6537850\ttotal: 8.25s\tremaining: 0us\n",
      "0:\tlearn: 0.7319041\ttotal: 9.73ms\tremaining: 9.72s\n",
      "50:\tlearn: 0.7115422\ttotal: 418ms\tremaining: 7.79s\n",
      "100:\tlearn: 0.7045879\ttotal: 816ms\tremaining: 7.26s\n",
      "150:\tlearn: 0.6993329\ttotal: 1.21s\tremaining: 6.78s\n",
      "200:\tlearn: 0.6944850\ttotal: 1.6s\tremaining: 6.35s\n",
      "250:\tlearn: 0.6898472\ttotal: 1.99s\tremaining: 5.93s\n",
      "300:\tlearn: 0.6863232\ttotal: 2.38s\tremaining: 5.53s\n",
      "350:\tlearn: 0.6830001\ttotal: 2.77s\tremaining: 5.12s\n",
      "400:\tlearn: 0.6804374\ttotal: 3.15s\tremaining: 4.71s\n",
      "450:\tlearn: 0.6779633\ttotal: 3.54s\tremaining: 4.31s\n",
      "500:\tlearn: 0.6757420\ttotal: 3.94s\tremaining: 3.92s\n",
      "550:\tlearn: 0.6736047\ttotal: 4.33s\tremaining: 3.53s\n",
      "600:\tlearn: 0.6706028\ttotal: 4.72s\tremaining: 3.13s\n",
      "650:\tlearn: 0.6676342\ttotal: 5.11s\tremaining: 2.74s\n",
      "700:\tlearn: 0.6649576\ttotal: 5.5s\tremaining: 2.35s\n",
      "750:\tlearn: 0.6615946\ttotal: 5.89s\tremaining: 1.95s\n",
      "800:\tlearn: 0.6589996\ttotal: 6.29s\tremaining: 1.56s\n",
      "850:\tlearn: 0.6556172\ttotal: 6.68s\tremaining: 1.17s\n",
      "900:\tlearn: 0.6520439\ttotal: 7.08s\tremaining: 778ms\n",
      "950:\tlearn: 0.6489034\ttotal: 7.63s\tremaining: 393ms\n",
      "999:\tlearn: 0.6461312\ttotal: 8.17s\tremaining: 0us\n",
      "0:\tlearn: 0.7326811\ttotal: 11.8ms\tremaining: 11.8s\n",
      "50:\tlearn: 0.7125509\ttotal: 731ms\tremaining: 13.6s\n",
      "100:\tlearn: 0.7058602\ttotal: 1.14s\tremaining: 10.2s\n",
      "150:\tlearn: 0.7011655\ttotal: 1.54s\tremaining: 8.64s\n",
      "200:\tlearn: 0.6972931\ttotal: 1.93s\tremaining: 7.68s\n",
      "250:\tlearn: 0.6935816\ttotal: 2.33s\tremaining: 6.96s\n",
      "300:\tlearn: 0.6901084\ttotal: 2.73s\tremaining: 6.33s\n",
      "350:\tlearn: 0.6870136\ttotal: 3.2s\tremaining: 5.92s\n",
      "400:\tlearn: 0.6847642\ttotal: 3.7s\tremaining: 5.53s\n",
      "450:\tlearn: 0.6824346\ttotal: 4.09s\tremaining: 4.98s\n",
      "500:\tlearn: 0.6801203\ttotal: 4.48s\tremaining: 4.46s\n",
      "550:\tlearn: 0.6779749\ttotal: 4.88s\tremaining: 3.97s\n",
      "600:\tlearn: 0.6760364\ttotal: 5.26s\tremaining: 3.5s\n",
      "650:\tlearn: 0.6742092\ttotal: 5.66s\tremaining: 3.03s\n",
      "700:\tlearn: 0.6724003\ttotal: 6.05s\tremaining: 2.58s\n",
      "750:\tlearn: 0.6707699\ttotal: 6.44s\tremaining: 2.13s\n",
      "800:\tlearn: 0.6689571\ttotal: 6.83s\tremaining: 1.7s\n",
      "850:\tlearn: 0.6670192\ttotal: 7.22s\tremaining: 1.26s\n",
      "900:\tlearn: 0.6651965\ttotal: 7.62s\tremaining: 837ms\n",
      "950:\tlearn: 0.6632284\ttotal: 8.01s\tremaining: 413ms\n",
      "999:\tlearn: 0.6619804\ttotal: 8.39s\tremaining: 0us\n",
      "0:\tlearn: 0.7322540\ttotal: 13.9ms\tremaining: 13.9s\n",
      "50:\tlearn: 0.7121474\ttotal: 470ms\tremaining: 8.74s\n",
      "100:\tlearn: 0.7057540\ttotal: 872ms\tremaining: 7.76s\n",
      "150:\tlearn: 0.7008887\ttotal: 1.28s\tremaining: 7.2s\n",
      "200:\tlearn: 0.6965588\ttotal: 1.72s\tremaining: 6.83s\n",
      "250:\tlearn: 0.6930282\ttotal: 2.11s\tremaining: 6.3s\n",
      "300:\tlearn: 0.6898836\ttotal: 2.51s\tremaining: 5.82s\n",
      "350:\tlearn: 0.6873241\ttotal: 2.9s\tremaining: 5.37s\n",
      "400:\tlearn: 0.6856733\ttotal: 3.3s\tremaining: 4.93s\n",
      "450:\tlearn: 0.6837308\ttotal: 3.69s\tremaining: 4.5s\n",
      "500:\tlearn: 0.6821108\ttotal: 4.09s\tremaining: 4.07s\n",
      "550:\tlearn: 0.6801353\ttotal: 4.49s\tremaining: 3.66s\n",
      "600:\tlearn: 0.6783112\ttotal: 4.88s\tremaining: 3.24s\n",
      "650:\tlearn: 0.6768783\ttotal: 5.28s\tremaining: 2.83s\n",
      "700:\tlearn: 0.6745030\ttotal: 5.67s\tremaining: 2.42s\n",
      "750:\tlearn: 0.6721771\ttotal: 6.06s\tremaining: 2.01s\n",
      "800:\tlearn: 0.6702221\ttotal: 6.46s\tremaining: 1.61s\n",
      "850:\tlearn: 0.6684216\ttotal: 6.86s\tremaining: 1.2s\n",
      "900:\tlearn: 0.6660560\ttotal: 7.26s\tremaining: 798ms\n",
      "950:\tlearn: 0.6641903\ttotal: 7.65s\tremaining: 394ms\n",
      "999:\tlearn: 0.6622084\ttotal: 8.04s\tremaining: 0us\n"
     ]
    },
    {
     "name": "stderr",
     "output_type": "stream",
     "text": [
      "/opt/conda/lib/python3.7/site-packages/lightgbm/engine.py:148: UserWarning: Found `num_iterations` in params. Will use it instead of argument\n",
      "  warnings.warn(\"Found `{}` in params. Will use it instead of argument\".format(alias))\n",
      "/opt/conda/lib/python3.7/site-packages/joblib/externals/loky/process_executor.py:706: UserWarning: A worker stopped while some jobs were given to the executor. This can be caused by a too short worker timeout or by a memory leak.\n",
      "  \"timeout or by a memory leak.\", UserWarning\n"
     ]
    },
    {
     "name": "stdout",
     "output_type": "stream",
     "text": [
      "0.697150970935807\n",
      "CPU times: user 3h 27min 36s, sys: 13min 4s, total: 3h 40min 41s\n",
      "Wall time: 3h 9min 37s\n"
     ]
    }
   ],
   "source": [
    "%%time\n",
    "kf = KFold(n_splits=5, shuffle=True, random_state=7)\n",
    "\n",
    "oof_preds = np.zeros(X.shape[0])\n",
    "sub_preds = np.zeros(test.shape[0])\n",
    "\n",
    "for n_fold, (trn_idx, val_idx) in enumerate(kf.split(X, y)):\n",
    "    X_train, y_train = X.iloc[trn_idx], y.iloc[trn_idx]\n",
    "    X_valid, y_valid = X.iloc[val_idx], y.iloc[val_idx]\n",
    "    level10 = list()\n",
    "    level10.append(('cbr', CatBoostRegressor(**param_cat, task_type='GPU')))\n",
    "    level10.append(('lgr', LGBMRegressor(**param_lgbm)))\n",
    "    level10.append(('xgb', XGBRegressor(**param_xgb)))\n",
    "    level10.append(('mlp', MLPRegressor()))\n",
    "    \n",
    "    level1 = VotingRegressor(estimators = level10, n_jobs = -1)\n",
    "\n",
    "    model = StackingRegressor(estimators=level10, final_estimator=level1, cv=5)\n",
    "    model.fit(X_train, y_train)\n",
    "    oof_preds[val_idx] = model.predict(X_valid)\n",
    "    pred_xgb = model.predict(test)\n",
    "    sub_preds += pred_xgb / kf.n_splits\n",
    "\n",
    "print(np.sqrt(mean_squared_error(y, oof_preds)))"
   ]
  },
  {
   "cell_type": "markdown",
   "metadata": {
    "papermill": {
     "duration": 0.193609,
     "end_time": "2021-01-27T23:02:29.079041",
     "exception": false,
     "start_time": "2021-01-27T23:02:28.885432",
     "status": "completed"
    },
    "tags": []
   },
   "source": [
    "# Submission"
   ]
  },
  {
   "cell_type": "code",
   "execution_count": 13,
   "metadata": {
    "execution": {
     "iopub.execute_input": "2021-01-27T23:02:29.471539Z",
     "iopub.status.busy": "2021-01-27T23:02:29.470952Z",
     "iopub.status.idle": "2021-01-27T23:02:30.384713Z",
     "shell.execute_reply": "2021-01-27T23:02:30.385135Z"
    },
    "papermill": {
     "duration": 1.113764,
     "end_time": "2021-01-27T23:02:30.385257",
     "exception": false,
     "start_time": "2021-01-27T23:02:29.271493",
     "status": "completed"
    },
    "tags": []
   },
   "outputs": [
    {
     "data": {
      "text/html": [
       "<div>\n",
       "<style scoped>\n",
       "    .dataframe tbody tr th:only-of-type {\n",
       "        vertical-align: middle;\n",
       "    }\n",
       "\n",
       "    .dataframe tbody tr th {\n",
       "        vertical-align: top;\n",
       "    }\n",
       "\n",
       "    .dataframe thead th {\n",
       "        text-align: right;\n",
       "    }\n",
       "</style>\n",
       "<table border=\"1\" class=\"dataframe\">\n",
       "  <thead>\n",
       "    <tr style=\"text-align: right;\">\n",
       "      <th></th>\n",
       "      <th>id</th>\n",
       "      <th>target</th>\n",
       "    </tr>\n",
       "  </thead>\n",
       "  <tbody>\n",
       "    <tr>\n",
       "      <th>0</th>\n",
       "      <td>0</td>\n",
       "      <td>7.974906</td>\n",
       "    </tr>\n",
       "    <tr>\n",
       "      <th>1</th>\n",
       "      <td>2</td>\n",
       "      <td>7.869025</td>\n",
       "    </tr>\n",
       "    <tr>\n",
       "      <th>2</th>\n",
       "      <td>6</td>\n",
       "      <td>7.931703</td>\n",
       "    </tr>\n",
       "    <tr>\n",
       "      <th>3</th>\n",
       "      <td>7</td>\n",
       "      <td>8.313256</td>\n",
       "    </tr>\n",
       "    <tr>\n",
       "      <th>4</th>\n",
       "      <td>10</td>\n",
       "      <td>8.153990</td>\n",
       "    </tr>\n",
       "  </tbody>\n",
       "</table>\n",
       "</div>"
      ],
      "text/plain": [
       "   id    target\n",
       "0   0  7.974906\n",
       "1   2  7.869025\n",
       "2   6  7.931703\n",
       "3   7  8.313256\n",
       "4  10  8.153990"
      ]
     },
     "execution_count": 13,
     "metadata": {},
     "output_type": "execute_result"
    }
   ],
   "source": [
    "# Make submission\n",
    "sample_submission['target'] = sub_preds\n",
    "sample_submission.to_csv(\"stacking_submission.csv\", index=False)\n",
    "sample_submission.head()"
   ]
  }
 ],
 "metadata": {
  "kernelspec": {
   "display_name": "Python 3",
   "language": "python",
   "name": "python3"
  },
  "language_info": {
   "codemirror_mode": {
    "name": "ipython",
    "version": 3
   },
   "file_extension": ".py",
   "mimetype": "text/x-python",
   "name": "python",
   "nbconvert_exporter": "python",
   "pygments_lexer": "ipython3",
   "version": "3.7.6"
  },
  "papermill": {
   "duration": 11401.912467,
   "end_time": "2021-01-27T23:02:31.854981",
   "environment_variables": {},
   "exception": null,
   "input_path": "__notebook__.ipynb",
   "output_path": "__notebook__.ipynb",
   "parameters": {},
   "start_time": "2021-01-27T19:52:29.942514",
   "version": "2.1.0"
  }
 },
 "nbformat": 4,
 "nbformat_minor": 4
}
